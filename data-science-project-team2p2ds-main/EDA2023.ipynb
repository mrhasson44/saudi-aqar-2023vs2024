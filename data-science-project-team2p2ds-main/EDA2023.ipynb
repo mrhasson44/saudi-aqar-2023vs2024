{
 "cells": [
  {
   "cell_type": "code",
   "execution_count": 99,
   "id": "a009363e-095f-4529-8101-80d6ee9c2dd6",
   "metadata": {},
   "outputs": [],
   "source": [
    "import pandas as pd\n",
    "import matplotlib.pyplot as plt"
   ]
  },
  {
   "cell_type": "markdown",
   "id": "b2cceeb2",
   "metadata": {},
   "source": [
    "## Loading Data & Renaming"
   ]
  },
  {
   "cell_type": "code",
   "execution_count": 100,
   "id": "d67b7256-9d94-4043-aefc-94c4e044b596",
   "metadata": {},
   "outputs": [],
   "source": [
    "df1 = pd.read_csv('2023_q1.csv')"
   ]
  },
  {
   "cell_type": "markdown",
   "id": "0f413423",
   "metadata": {},
   "source": [
    "## 1. Data Profiling"
   ]
  },
  {
   "cell_type": "code",
   "execution_count": 101,
   "id": "57e0224f",
   "metadata": {},
   "outputs": [
    {
     "name": "stdout",
     "output_type": "stream",
     "text": [
      "<class 'pandas.core.frame.DataFrame'>\n",
      "RangeIndex: 44091 entries, 0 to 44090\n",
      "Data columns (total 13 columns):\n",
      " #   Column                 Non-Null Count  Dtype  \n",
      "---  ------                 --------------  -----  \n",
      " 0   رقم مرجعي              44091 non-null  int64  \n",
      " 1   المنطقة                44091 non-null  object \n",
      " 2   المدينة                44091 non-null  object \n",
      " 3   الحي                   44091 non-null  object \n",
      " 4   المخطط                 44091 non-null  object \n",
      " 5   رقم القطعة             44091 non-null  object \n",
      " 6   التاريخ                44091 non-null  object \n",
      " 7   تصنيف العقار           44091 non-null  object \n",
      " 8   نوع العقار             44091 non-null  object \n",
      " 9   عدد العقارات           44091 non-null  int64  \n",
      " 10  السعر بالريال السعودي  44091 non-null  int64  \n",
      " 11  المساحة                44091 non-null  float64\n",
      " 12  سعر المتر المربع       44091 non-null  float64\n",
      "dtypes: float64(2), int64(3), object(8)\n",
      "memory usage: 4.4+ MB\n"
     ]
    }
   ],
   "source": [
    "df1.info()"
   ]
  },
  {
   "cell_type": "markdown",
   "id": "e49377ee",
   "metadata": {},
   "source": [
    "**1.1 Reliability**"
   ]
  },
  {
   "cell_type": "markdown",
   "id": "2263cea2",
   "metadata": {},
   "source": [
    "1- Data Source: Got it from Kaggle Where Its Originally from Open Data Authority\n",
    "\n",
    "\n",
    "2- Link for the Data: https://www.kaggle.com/datasets/desperateyazeed/saudi-arabia-real-estate-datasets-2022q1-and-2023q1?select=before_cleaning_realestate_2022_q1.csv"
   ]
  },
  {
   "cell_type": "markdown",
   "id": "c021484b",
   "metadata": {},
   "source": [
    "**1.2 Timeliness**\n",
    "\n",
    "Date of the data: 2022 & 2023\n",
    "\n",
    "2 years old"
   ]
  },
  {
   "cell_type": "markdown",
   "id": "efe8f6c4",
   "metadata": {},
   "source": [
    "**1.3 Consistency:** \n",
    "\n",
    "1- data is consistent within the two datasets 2022 & 2023\n"
   ]
  },
  {
   "cell_type": "code",
   "execution_count": 102,
   "id": "839693fe",
   "metadata": {},
   "outputs": [
    {
     "data": {
      "text/html": [
       "<div>\n",
       "<style scoped>\n",
       "    .dataframe tbody tr th:only-of-type {\n",
       "        vertical-align: middle;\n",
       "    }\n",
       "\n",
       "    .dataframe tbody tr th {\n",
       "        vertical-align: top;\n",
       "    }\n",
       "\n",
       "    .dataframe thead th {\n",
       "        text-align: right;\n",
       "    }\n",
       "</style>\n",
       "<table border=\"1\" class=\"dataframe\">\n",
       "  <thead>\n",
       "    <tr style=\"text-align: right;\">\n",
       "      <th></th>\n",
       "      <th>رقم مرجعي</th>\n",
       "      <th>المنطقة</th>\n",
       "      <th>المدينة</th>\n",
       "      <th>الحي</th>\n",
       "      <th>المخطط</th>\n",
       "      <th>رقم القطعة</th>\n",
       "      <th>التاريخ</th>\n",
       "      <th>تصنيف العقار</th>\n",
       "      <th>نوع العقار</th>\n",
       "      <th>عدد العقارات</th>\n",
       "      <th>السعر بالريال السعودي</th>\n",
       "      <th>المساحة</th>\n",
       "      <th>سعر المتر المربع</th>\n",
       "    </tr>\n",
       "  </thead>\n",
       "  <tbody>\n",
       "    <tr>\n",
       "      <th>0</th>\n",
       "      <td>18890600</td>\n",
       "      <td>منطقة الرياض</td>\n",
       "      <td>الخرج</td>\n",
       "      <td>حي/غرب الهياثم</td>\n",
       "      <td>مخطط/151</td>\n",
       "      <td>قطعة 172/أ</td>\n",
       "      <td>1/1/2023</td>\n",
       "      <td>سكني</td>\n",
       "      <td>قطعة أرض</td>\n",
       "      <td>1</td>\n",
       "      <td>168938</td>\n",
       "      <td>318.75</td>\n",
       "      <td>530.0015</td>\n",
       "    </tr>\n",
       "    <tr>\n",
       "      <th>1</th>\n",
       "      <td>18923186</td>\n",
       "      <td>منطقة الرياض</td>\n",
       "      <td>الافلاج</td>\n",
       "      <td>حي/أخرى</td>\n",
       "      <td>مخطط/أخرى</td>\n",
       "      <td>قطعة 505</td>\n",
       "      <td>1/1/2023</td>\n",
       "      <td>سكني</td>\n",
       "      <td>قطعة أرض</td>\n",
       "      <td>1</td>\n",
       "      <td>32000</td>\n",
       "      <td>630.00</td>\n",
       "      <td>50.7936</td>\n",
       "    </tr>\n",
       "    <tr>\n",
       "      <th>2</th>\n",
       "      <td>18920819</td>\n",
       "      <td>منطقة الرياض</td>\n",
       "      <td>الافلاج</td>\n",
       "      <td>حي/الريان</td>\n",
       "      <td>مخطط/872</td>\n",
       "      <td>قطعة 1500</td>\n",
       "      <td>1/1/2023</td>\n",
       "      <td>سكني</td>\n",
       "      <td>قطعة أرض</td>\n",
       "      <td>1</td>\n",
       "      <td>60000</td>\n",
       "      <td>690.00</td>\n",
       "      <td>86.9565</td>\n",
       "    </tr>\n",
       "    <tr>\n",
       "      <th>3</th>\n",
       "      <td>18923523</td>\n",
       "      <td>منطقة الرياض</td>\n",
       "      <td>الخرج</td>\n",
       "      <td>حي/827 حى هجرة الصاع</td>\n",
       "      <td>مخطط/أخرى</td>\n",
       "      <td>قطعة 948</td>\n",
       "      <td>1/1/2023</td>\n",
       "      <td>سكني</td>\n",
       "      <td>قطعة أرض</td>\n",
       "      <td>1</td>\n",
       "      <td>20000</td>\n",
       "      <td>630.00</td>\n",
       "      <td>31.7460</td>\n",
       "    </tr>\n",
       "    <tr>\n",
       "      <th>4</th>\n",
       "      <td>18909006</td>\n",
       "      <td>منطقة الرياض</td>\n",
       "      <td>الخرج</td>\n",
       "      <td>حي/الاندلس</td>\n",
       "      <td>مخطط/أخرى</td>\n",
       "      <td>قطعة 555</td>\n",
       "      <td>1/1/2023</td>\n",
       "      <td>سكني</td>\n",
       "      <td>قطعة أرض</td>\n",
       "      <td>1</td>\n",
       "      <td>140000</td>\n",
       "      <td>333.00</td>\n",
       "      <td>420.4204</td>\n",
       "    </tr>\n",
       "    <tr>\n",
       "      <th>5</th>\n",
       "      <td>18857540</td>\n",
       "      <td>منطقة الرياض</td>\n",
       "      <td>الخرج</td>\n",
       "      <td>حي/الخالديه</td>\n",
       "      <td>مخطط/97</td>\n",
       "      <td>قطعة 182</td>\n",
       "      <td>1/1/2023</td>\n",
       "      <td>سكني</td>\n",
       "      <td>قطعة أرض</td>\n",
       "      <td>1</td>\n",
       "      <td>50000</td>\n",
       "      <td>380.00</td>\n",
       "      <td>131.5789</td>\n",
       "    </tr>\n",
       "    <tr>\n",
       "      <th>6</th>\n",
       "      <td>18902889</td>\n",
       "      <td>منطقة الرياض</td>\n",
       "      <td>الخرج</td>\n",
       "      <td>حي/السلمانيه</td>\n",
       "      <td>مخطط/أخرى</td>\n",
       "      <td>قطعة بدون</td>\n",
       "      <td>1/1/2023</td>\n",
       "      <td>سكني</td>\n",
       "      <td>بيت</td>\n",
       "      <td>1</td>\n",
       "      <td>100000</td>\n",
       "      <td>275.00</td>\n",
       "      <td>363.6363</td>\n",
       "    </tr>\n",
       "    <tr>\n",
       "      <th>7</th>\n",
       "      <td>18920141</td>\n",
       "      <td>منطقة الرياض</td>\n",
       "      <td>الخرج</td>\n",
       "      <td>حي/العفجه</td>\n",
       "      <td>مخطط/أخرى</td>\n",
       "      <td>قطعة 442</td>\n",
       "      <td>1/1/2023</td>\n",
       "      <td>زراعي</td>\n",
       "      <td>أرض زراعية</td>\n",
       "      <td>1</td>\n",
       "      <td>400000</td>\n",
       "      <td>5000.00</td>\n",
       "      <td>80.0000</td>\n",
       "    </tr>\n",
       "    <tr>\n",
       "      <th>8</th>\n",
       "      <td>18919935</td>\n",
       "      <td>منطقة الرياض</td>\n",
       "      <td>الخرج</td>\n",
       "      <td>حي/الفيصلية</td>\n",
       "      <td>مخطط/1646</td>\n",
       "      <td>قطعة 137</td>\n",
       "      <td>1/1/2023</td>\n",
       "      <td>سكني</td>\n",
       "      <td>قطعة أرض</td>\n",
       "      <td>1</td>\n",
       "      <td>340000</td>\n",
       "      <td>500.00</td>\n",
       "      <td>680.0000</td>\n",
       "    </tr>\n",
       "    <tr>\n",
       "      <th>9</th>\n",
       "      <td>18919958</td>\n",
       "      <td>منطقة الرياض</td>\n",
       "      <td>الخرج</td>\n",
       "      <td>حي/الفيصلية</td>\n",
       "      <td>مخطط/1646</td>\n",
       "      <td>قطعة 139</td>\n",
       "      <td>1/1/2023</td>\n",
       "      <td>سكني</td>\n",
       "      <td>قطعة أرض</td>\n",
       "      <td>1</td>\n",
       "      <td>374000</td>\n",
       "      <td>550.00</td>\n",
       "      <td>680.0000</td>\n",
       "    </tr>\n",
       "  </tbody>\n",
       "</table>\n",
       "</div>"
      ],
      "text/plain": [
       "   رقم مرجعي       المنطقة  المدينة                  الحي     المخطط  \\\n",
       "0   18890600  منطقة الرياض    الخرج        حي/غرب الهياثم   مخطط/151   \n",
       "1   18923186  منطقة الرياض  الافلاج               حي/أخرى  مخطط/أخرى   \n",
       "2   18920819  منطقة الرياض  الافلاج             حي/الريان   مخطط/872   \n",
       "3   18923523  منطقة الرياض    الخرج  حي/827 حى هجرة الصاع  مخطط/أخرى   \n",
       "4   18909006  منطقة الرياض    الخرج            حي/الاندلس  مخطط/أخرى   \n",
       "5   18857540  منطقة الرياض    الخرج           حي/الخالديه    مخطط/97   \n",
       "6   18902889  منطقة الرياض    الخرج          حي/السلمانيه  مخطط/أخرى   \n",
       "7   18920141  منطقة الرياض    الخرج             حي/العفجه  مخطط/أخرى   \n",
       "8   18919935  منطقة الرياض    الخرج           حي/الفيصلية  مخطط/1646   \n",
       "9   18919958  منطقة الرياض    الخرج           حي/الفيصلية  مخطط/1646   \n",
       "\n",
       "    رقم القطعة   التاريخ تصنيف العقار  نوع العقار  عدد العقارات  \\\n",
       "0   قطعة 172/أ  1/1/2023         سكني    قطعة أرض             1   \n",
       "1     قطعة 505  1/1/2023         سكني    قطعة أرض             1   \n",
       "2    قطعة 1500  1/1/2023         سكني    قطعة أرض             1   \n",
       "3     قطعة 948  1/1/2023         سكني    قطعة أرض             1   \n",
       "4     قطعة 555  1/1/2023         سكني    قطعة أرض             1   \n",
       "5     قطعة 182  1/1/2023         سكني    قطعة أرض             1   \n",
       "6    قطعة بدون  1/1/2023         سكني         بيت             1   \n",
       "7     قطعة 442  1/1/2023        زراعي  أرض زراعية             1   \n",
       "8     قطعة 137  1/1/2023         سكني    قطعة أرض             1   \n",
       "9     قطعة 139  1/1/2023         سكني    قطعة أرض             1   \n",
       "\n",
       "   السعر بالريال السعودي  المساحة   سعر المتر المربع  \n",
       "0                 168938    318.75          530.0015  \n",
       "1                  32000    630.00           50.7936  \n",
       "2                  60000    690.00           86.9565  \n",
       "3                  20000    630.00           31.7460  \n",
       "4                 140000    333.00          420.4204  \n",
       "5                  50000    380.00          131.5789  \n",
       "6                 100000    275.00          363.6363  \n",
       "7                 400000   5000.00           80.0000  \n",
       "8                 340000    500.00          680.0000  \n",
       "9                 374000    550.00          680.0000  "
      ]
     },
     "execution_count": 102,
     "metadata": {},
     "output_type": "execute_result"
    }
   ],
   "source": [
    "df1.head(10)"
   ]
  },
  {
   "cell_type": "code",
   "execution_count": 103,
   "id": "42fcd079",
   "metadata": {},
   "outputs": [
    {
     "data": {
      "text/plain": [
       "رقم مرجعي                  int64\n",
       "المنطقة                   object\n",
       "المدينة                   object\n",
       "الحي                      object\n",
       "المخطط                    object\n",
       "رقم القطعة                object\n",
       "التاريخ                   object\n",
       "تصنيف العقار              object\n",
       "نوع العقار                object\n",
       "عدد العقارات               int64\n",
       "السعر بالريال السعودي      int64\n",
       "المساحة                  float64\n",
       "سعر المتر المربع         float64\n",
       "dtype: object"
      ]
     },
     "execution_count": 103,
     "metadata": {},
     "output_type": "execute_result"
    }
   ],
   "source": [
    "df1.dtypes"
   ]
  },
  {
   "cell_type": "markdown",
   "id": "a84cf3f9",
   "metadata": {},
   "source": [
    "**1.4 Relevance**\n",
    "\n",
    "Data is Skewed But Can Be Cleaned And Normalizied "
   ]
  },
  {
   "cell_type": "code",
   "execution_count": 104,
   "id": "206a749b",
   "metadata": {},
   "outputs": [
    {
     "data": {
      "text/html": [
       "<div>\n",
       "<style scoped>\n",
       "    .dataframe tbody tr th:only-of-type {\n",
       "        vertical-align: middle;\n",
       "    }\n",
       "\n",
       "    .dataframe tbody tr th {\n",
       "        vertical-align: top;\n",
       "    }\n",
       "\n",
       "    .dataframe thead th {\n",
       "        text-align: right;\n",
       "    }\n",
       "</style>\n",
       "<table border=\"1\" class=\"dataframe\">\n",
       "  <thead>\n",
       "    <tr style=\"text-align: right;\">\n",
       "      <th></th>\n",
       "      <th>رقم مرجعي</th>\n",
       "      <th>عدد العقارات</th>\n",
       "      <th>السعر بالريال السعودي</th>\n",
       "      <th>المساحة</th>\n",
       "      <th>سعر المتر المربع</th>\n",
       "    </tr>\n",
       "  </thead>\n",
       "  <tbody>\n",
       "    <tr>\n",
       "      <th>count</th>\n",
       "      <td>4.409100e+04</td>\n",
       "      <td>44091.000000</td>\n",
       "      <td>4.409100e+04</td>\n",
       "      <td>4.409100e+04</td>\n",
       "      <td>44091.000000</td>\n",
       "    </tr>\n",
       "    <tr>\n",
       "      <th>mean</th>\n",
       "      <td>1.928213e+07</td>\n",
       "      <td>1.041709</td>\n",
       "      <td>9.694806e+05</td>\n",
       "      <td>8.273297e+03</td>\n",
       "      <td>1708.866406</td>\n",
       "    </tr>\n",
       "    <tr>\n",
       "      <th>std</th>\n",
       "      <td>2.122734e+05</td>\n",
       "      <td>0.656877</td>\n",
       "      <td>6.301977e+06</td>\n",
       "      <td>1.027760e+05</td>\n",
       "      <td>2645.478105</td>\n",
       "    </tr>\n",
       "    <tr>\n",
       "      <th>min</th>\n",
       "      <td>1.870382e+07</td>\n",
       "      <td>1.000000</td>\n",
       "      <td>1.000000e+04</td>\n",
       "      <td>1.219200e+00</td>\n",
       "      <td>0.010000</td>\n",
       "    </tr>\n",
       "    <tr>\n",
       "      <th>25%</th>\n",
       "      <td>1.910319e+07</td>\n",
       "      <td>1.000000</td>\n",
       "      <td>1.000000e+05</td>\n",
       "      <td>3.275675e+02</td>\n",
       "      <td>166.666600</td>\n",
       "    </tr>\n",
       "    <tr>\n",
       "      <th>50%</th>\n",
       "      <td>1.927383e+07</td>\n",
       "      <td>1.000000</td>\n",
       "      <td>3.500000e+05</td>\n",
       "      <td>5.100000e+02</td>\n",
       "      <td>720.351300</td>\n",
       "    </tr>\n",
       "    <tr>\n",
       "      <th>75%</th>\n",
       "      <td>1.945607e+07</td>\n",
       "      <td>1.000000</td>\n",
       "      <td>8.450000e+05</td>\n",
       "      <td>7.200000e+02</td>\n",
       "      <td>2339.541300</td>\n",
       "    </tr>\n",
       "    <tr>\n",
       "      <th>max</th>\n",
       "      <td>1.968028e+07</td>\n",
       "      <td>34.000000</td>\n",
       "      <td>6.963680e+08</td>\n",
       "      <td>4.289000e+06</td>\n",
       "      <td>158192.090300</td>\n",
       "    </tr>\n",
       "  </tbody>\n",
       "</table>\n",
       "</div>"
      ],
      "text/plain": [
       "          رقم مرجعي  عدد العقارات  السعر بالريال السعودي      المساحة   \\\n",
       "count  4.409100e+04  44091.000000           4.409100e+04  4.409100e+04   \n",
       "mean   1.928213e+07      1.041709           9.694806e+05  8.273297e+03   \n",
       "std    2.122734e+05      0.656877           6.301977e+06  1.027760e+05   \n",
       "min    1.870382e+07      1.000000           1.000000e+04  1.219200e+00   \n",
       "25%    1.910319e+07      1.000000           1.000000e+05  3.275675e+02   \n",
       "50%    1.927383e+07      1.000000           3.500000e+05  5.100000e+02   \n",
       "75%    1.945607e+07      1.000000           8.450000e+05  7.200000e+02   \n",
       "max    1.968028e+07     34.000000           6.963680e+08  4.289000e+06   \n",
       "\n",
       "       سعر المتر المربع  \n",
       "count      44091.000000  \n",
       "mean        1708.866406  \n",
       "std         2645.478105  \n",
       "min            0.010000  \n",
       "25%          166.666600  \n",
       "50%          720.351300  \n",
       "75%         2339.541300  \n",
       "max       158192.090300  "
      ]
     },
     "execution_count": 104,
     "metadata": {},
     "output_type": "execute_result"
    }
   ],
   "source": [
    "df1.describe()"
   ]
  },
  {
   "cell_type": "code",
   "execution_count": 105,
   "id": "bffd3556",
   "metadata": {},
   "outputs": [
    {
     "name": "stdout",
     "output_type": "stream",
     "text": [
      "<class 'pandas.core.frame.DataFrame'>\n",
      "RangeIndex: 44091 entries, 0 to 44090\n",
      "Data columns (total 13 columns):\n",
      " #   Column                 Non-Null Count  Dtype  \n",
      "---  ------                 --------------  -----  \n",
      " 0   رقم مرجعي              44091 non-null  int64  \n",
      " 1   المنطقة                44091 non-null  object \n",
      " 2   المدينة                44091 non-null  object \n",
      " 3   الحي                   44091 non-null  object \n",
      " 4   المخطط                 44091 non-null  object \n",
      " 5   رقم القطعة             44091 non-null  object \n",
      " 6   التاريخ                44091 non-null  object \n",
      " 7   تصنيف العقار           44091 non-null  object \n",
      " 8   نوع العقار             44091 non-null  object \n",
      " 9   عدد العقارات           44091 non-null  int64  \n",
      " 10  السعر بالريال السعودي  44091 non-null  int64  \n",
      " 11  المساحة                44091 non-null  float64\n",
      " 12  سعر المتر المربع       44091 non-null  float64\n",
      "dtypes: float64(2), int64(3), object(8)\n",
      "memory usage: 4.4+ MB\n"
     ]
    }
   ],
   "source": [
    "df1.info()"
   ]
  },
  {
   "cell_type": "code",
   "execution_count": 106,
   "id": "e77e72a0",
   "metadata": {},
   "outputs": [],
   "source": [
    "df1.drop('رقم القطعة', axis=1, inplace=True)"
   ]
  },
  {
   "cell_type": "code",
   "execution_count": 107,
   "id": "bdd64526",
   "metadata": {},
   "outputs": [
    {
     "name": "stdout",
     "output_type": "stream",
     "text": [
      "<class 'pandas.core.frame.DataFrame'>\n",
      "RangeIndex: 44091 entries, 0 to 44090\n",
      "Data columns (total 12 columns):\n",
      " #   Column                 Non-Null Count  Dtype  \n",
      "---  ------                 --------------  -----  \n",
      " 0   رقم مرجعي              44091 non-null  int64  \n",
      " 1   المنطقة                44091 non-null  object \n",
      " 2   المدينة                44091 non-null  object \n",
      " 3   الحي                   44091 non-null  object \n",
      " 4   المخطط                 44091 non-null  object \n",
      " 5   التاريخ                44091 non-null  object \n",
      " 6   تصنيف العقار           44091 non-null  object \n",
      " 7   نوع العقار             44091 non-null  object \n",
      " 8   عدد العقارات           44091 non-null  int64  \n",
      " 9   السعر بالريال السعودي  44091 non-null  int64  \n",
      " 10  المساحة                44091 non-null  float64\n",
      " 11  سعر المتر المربع       44091 non-null  float64\n",
      "dtypes: float64(2), int64(3), object(7)\n",
      "memory usage: 4.0+ MB\n"
     ]
    }
   ],
   "source": [
    "df1.info()"
   ]
  },
  {
   "cell_type": "markdown",
   "id": "94d968bf",
   "metadata": {},
   "source": [
    "**Renaming the Colmuns**"
   ]
  },
  {
   "cell_type": "code",
   "execution_count": 108,
   "id": "b717810d-3b1b-4514-8ec4-5fb9d8c37853",
   "metadata": {},
   "outputs": [],
   "source": [
    "df1.columns = df1.columns.str.strip()"
   ]
  },
  {
   "cell_type": "code",
   "execution_count": 109,
   "id": "c5d28640",
   "metadata": {},
   "outputs": [],
   "source": [
    "new_column_names = {\n",
    "    'المنطقة': 'area', \n",
    "    'المدينة': 'city',\n",
    "    'الحي': 'district',\n",
    "    'تصنيف العقار': 'property_classification',\n",
    "    'نوع العقار': 'property_type',\n",
    "    'عدد العقارات': 'number_of_properties',\n",
    "    'السعر بالريال السعودي': 'price',\n",
    "    'المساحة': 'space',\n",
    "    'سعر المتر المربع': 'Price_per_square_meter',\n",
    "    'رقم مرجعي': 'ref_num',\n",
    "    'المخطط': 'Mukatat',\n",
    "    'التاريخ': 'date' \n",
    "}"
   ]
  },
  {
   "cell_type": "code",
   "execution_count": 110,
   "id": "856bec98",
   "metadata": {},
   "outputs": [
    {
     "data": {
      "text/plain": [
       "Index(['ref_num', 'area', 'city', 'district', 'Mukatat', 'date',\n",
       "       'property_classification', 'property_type', 'number_of_properties',\n",
       "       'price', 'space', 'Price_per_square_meter'],\n",
       "      dtype='object')"
      ]
     },
     "execution_count": 110,
     "metadata": {},
     "output_type": "execute_result"
    }
   ],
   "source": [
    "df1 = df1.rename(columns=new_column_names)\n",
    "df1.columns\n"
   ]
  },
  {
   "cell_type": "markdown",
   "id": "0a27668b",
   "metadata": {},
   "source": [
    "**1.5 Uniqueness**\n",
    "\n",
    "Records Are Unique"
   ]
  },
  {
   "cell_type": "code",
   "execution_count": 111,
   "id": "8c4a93d7",
   "metadata": {},
   "outputs": [
    {
     "data": {
      "text/plain": [
       "np.int64(0)"
      ]
     },
     "execution_count": 111,
     "metadata": {},
     "output_type": "execute_result"
    }
   ],
   "source": [
    "df1.duplicated().sum()"
   ]
  },
  {
   "cell_type": "code",
   "execution_count": 112,
   "id": "cd0927c1",
   "metadata": {},
   "outputs": [
    {
     "data": {
      "text/html": [
       "<div>\n",
       "<style scoped>\n",
       "    .dataframe tbody tr th:only-of-type {\n",
       "        vertical-align: middle;\n",
       "    }\n",
       "\n",
       "    .dataframe tbody tr th {\n",
       "        vertical-align: top;\n",
       "    }\n",
       "\n",
       "    .dataframe thead th {\n",
       "        text-align: right;\n",
       "    }\n",
       "</style>\n",
       "<table border=\"1\" class=\"dataframe\">\n",
       "  <thead>\n",
       "    <tr style=\"text-align: right;\">\n",
       "      <th></th>\n",
       "      <th>ref_num</th>\n",
       "      <th>area</th>\n",
       "      <th>city</th>\n",
       "      <th>district</th>\n",
       "      <th>Mukatat</th>\n",
       "      <th>date</th>\n",
       "      <th>property_classification</th>\n",
       "      <th>property_type</th>\n",
       "      <th>number_of_properties</th>\n",
       "      <th>price</th>\n",
       "      <th>space</th>\n",
       "      <th>Price_per_square_meter</th>\n",
       "    </tr>\n",
       "  </thead>\n",
       "  <tbody>\n",
       "  </tbody>\n",
       "</table>\n",
       "</div>"
      ],
      "text/plain": [
       "Empty DataFrame\n",
       "Columns: [ref_num, area, city, district, Mukatat, date, property_classification, property_type, number_of_properties, price, space, Price_per_square_meter]\n",
       "Index: []"
      ]
     },
     "execution_count": 112,
     "metadata": {},
     "output_type": "execute_result"
    }
   ],
   "source": [
    "df1[df1.duplicated()]"
   ]
  },
  {
   "cell_type": "markdown",
   "id": "ce73ad2b",
   "metadata": {},
   "source": [
    "**1.6 Completeness**\n",
    "\n",
    "\n",
    "There is no critical data is missing"
   ]
  },
  {
   "cell_type": "code",
   "execution_count": 113,
   "id": "b4e6959c",
   "metadata": {},
   "outputs": [
    {
     "data": {
      "text/plain": [
       "ref_num                    0\n",
       "area                       0\n",
       "city                       0\n",
       "district                   0\n",
       "Mukatat                    0\n",
       "date                       0\n",
       "property_classification    0\n",
       "property_type              0\n",
       "number_of_properties       0\n",
       "price                      0\n",
       "space                      0\n",
       "Price_per_square_meter     0\n",
       "dtype: int64"
      ]
     },
     "execution_count": 113,
     "metadata": {},
     "output_type": "execute_result"
    }
   ],
   "source": [
    "df1.isna().sum()"
   ]
  },
  {
   "cell_type": "markdown",
   "id": "58351818",
   "metadata": {},
   "source": [
    "**1- Removing Any extra noise in columns**"
   ]
  },
  {
   "cell_type": "code",
   "execution_count": 114,
   "id": "576eeb71",
   "metadata": {},
   "outputs": [],
   "source": [
    "df1['district'] = df1['district'].str.replace(r'^حي/', '', regex=True)  # Remove \"حي/\"\n",
    "df1['Mukatat'] = df1['Mukatat'].str.replace(r'^مخطط/', '', regex=True)  # Remove \"مخطط/\"\n",
    "if 'piece_num' in df1.columns:\n",
    "    df1['piece_num'] = df1['piece_num'].str.strip().str.replace(r'^قطعة ', '', regex=True) # Remove \"قطعة/\""
   ]
  },
  {
   "cell_type": "code",
   "execution_count": 115,
   "id": "66e790a1",
   "metadata": {},
   "outputs": [
    {
     "data": {
      "text/plain": [
       "0          غرب الهياثم\n",
       "1                 أخرى\n",
       "2               الريان\n",
       "3    827 حى هجرة الصاع\n",
       "4              الاندلس\n",
       "Name: district, dtype: object"
      ]
     },
     "execution_count": 115,
     "metadata": {},
     "output_type": "execute_result"
    }
   ],
   "source": [
    "df1['district'].head()"
   ]
  },
  {
   "cell_type": "code",
   "execution_count": 116,
   "id": "3139e4c1",
   "metadata": {},
   "outputs": [
    {
     "data": {
      "text/plain": [
       "0     151\n",
       "1    أخرى\n",
       "2     872\n",
       "3    أخرى\n",
       "4    أخرى\n",
       "Name: Mukatat, dtype: object"
      ]
     },
     "execution_count": 116,
     "metadata": {},
     "output_type": "execute_result"
    }
   ],
   "source": [
    "df1['Mukatat'].head()"
   ]
  },
  {
   "cell_type": "code",
   "execution_count": 117,
   "id": "22046e56",
   "metadata": {},
   "outputs": [],
   "source": [
    "df1['Mukatat'] = df1['Mukatat'].str.replace(r'\\s*/\\s*', '/', regex=True)"
   ]
  },
  {
   "cell_type": "markdown",
   "id": "e6a86885",
   "metadata": {},
   "source": [
    "**2- Changing the Districts that have lower than 10 rows to 'اخرى' to have better results & visualized data**"
   ]
  },
  {
   "cell_type": "code",
   "execution_count": 118,
   "id": "b394d6ce",
   "metadata": {},
   "outputs": [],
   "source": [
    "df1['district'] = df1['district'].apply(lambda x: x.strip() if isinstance(x, str) else x)\n",
    "district_stats = df1['district'].value_counts(ascending=False)\n",
    "district_stats_less_than_10 = district_stats[district_stats <= 10]\n",
    "df1['district'] = df1['district'].apply(lambda x: 'حي/أخرى' if x in district_stats_less_than_10 else x)"
   ]
  },
  {
   "cell_type": "code",
   "execution_count": 119,
   "id": "73483ffd",
   "metadata": {},
   "outputs": [
    {
     "data": {
      "text/plain": [
       "district\n",
       "الخضر                            10\n",
       "356/ 2                           10\n",
       "ضاحية المندسة المرحلة الاولى     10\n",
       "الفويلق                          10\n",
       "الخاتم بمنطقة قباء               10\n",
       "                                 ..\n",
       "على طريق الخميس تندحة المزدوج     1\n",
       "ال هميله                          1\n",
       "أم سرار                           1\n",
       "غرب عين نجم                       1\n",
       "ش.د 1015                          1\n",
       "Name: count, Length: 3508, dtype: int64"
      ]
     },
     "execution_count": 119,
     "metadata": {},
     "output_type": "execute_result"
    }
   ],
   "source": [
    "district_stats_less_than_10"
   ]
  },
  {
   "cell_type": "code",
   "execution_count": 120,
   "id": "d9d4cb8a",
   "metadata": {},
   "outputs": [
    {
     "name": "stdout",
     "output_type": "stream",
     "text": [
      "<class 'pandas.core.frame.DataFrame'>\n",
      "RangeIndex: 44091 entries, 0 to 44090\n",
      "Data columns (total 12 columns):\n",
      " #   Column                   Non-Null Count  Dtype  \n",
      "---  ------                   --------------  -----  \n",
      " 0   ref_num                  44091 non-null  int64  \n",
      " 1   area                     44091 non-null  object \n",
      " 2   city                     44091 non-null  object \n",
      " 3   district                 44091 non-null  object \n",
      " 4   Mukatat                  44091 non-null  object \n",
      " 5   date                     44091 non-null  object \n",
      " 6   property_classification  44091 non-null  object \n",
      " 7   property_type            44091 non-null  object \n",
      " 8   number_of_properties     44091 non-null  int64  \n",
      " 9   price                    44091 non-null  int64  \n",
      " 10  space                    44091 non-null  float64\n",
      " 11  Price_per_square_meter   44091 non-null  float64\n",
      "dtypes: float64(2), int64(3), object(7)\n",
      "memory usage: 4.0+ MB\n"
     ]
    }
   ],
   "source": [
    "df1.info()"
   ]
  },
  {
   "cell_type": "markdown",
   "id": "d790be7c",
   "metadata": {},
   "source": [
    "**3- Deleting number_of_properties > 1 Because the price range would be different and it would be outlier** \n"
   ]
  },
  {
   "cell_type": "code",
   "execution_count": 121,
   "id": "0093c953",
   "metadata": {},
   "outputs": [
    {
     "name": "stdout",
     "output_type": "stream",
     "text": [
      "<class 'pandas.core.frame.DataFrame'>\n",
      "Index: 43588 entries, 0 to 44090\n",
      "Data columns (total 12 columns):\n",
      " #   Column                   Non-Null Count  Dtype  \n",
      "---  ------                   --------------  -----  \n",
      " 0   ref_num                  43588 non-null  int64  \n",
      " 1   area                     43588 non-null  object \n",
      " 2   city                     43588 non-null  object \n",
      " 3   district                 43588 non-null  object \n",
      " 4   Mukatat                  43588 non-null  object \n",
      " 5   date                     43588 non-null  object \n",
      " 6   property_classification  43588 non-null  object \n",
      " 7   property_type            43588 non-null  object \n",
      " 8   number_of_properties     43588 non-null  int64  \n",
      " 9   price                    43588 non-null  int64  \n",
      " 10  space                    43588 non-null  float64\n",
      " 11  Price_per_square_meter   43588 non-null  float64\n",
      "dtypes: float64(2), int64(3), object(7)\n",
      "memory usage: 4.3+ MB\n"
     ]
    }
   ],
   "source": [
    "df1 = df1[df1['number_of_properties'] <= 1]\n",
    "df1.info()"
   ]
  },
  {
   "cell_type": "markdown",
   "id": "290413fa",
   "metadata": {},
   "source": [
    "**4- Removing the areas are not in central,eastern,west**"
   ]
  },
  {
   "cell_type": "code",
   "execution_count": 122,
   "id": "fba188fd",
   "metadata": {},
   "outputs": [
    {
     "name": "stdout",
     "output_type": "stream",
     "text": [
      "<class 'pandas.core.frame.DataFrame'>\n",
      "Index: 29336 entries, 0 to 44078\n",
      "Data columns (total 12 columns):\n",
      " #   Column                   Non-Null Count  Dtype  \n",
      "---  ------                   --------------  -----  \n",
      " 0   ref_num                  29336 non-null  int64  \n",
      " 1   area                     29336 non-null  object \n",
      " 2   city                     29336 non-null  object \n",
      " 3   district                 29336 non-null  object \n",
      " 4   Mukatat                  29336 non-null  object \n",
      " 5   date                     29336 non-null  object \n",
      " 6   property_classification  29336 non-null  object \n",
      " 7   property_type            29336 non-null  object \n",
      " 8   number_of_properties     29336 non-null  int64  \n",
      " 9   price                    29336 non-null  int64  \n",
      " 10  space                    29336 non-null  float64\n",
      " 11  Price_per_square_meter   29336 non-null  float64\n",
      "dtypes: float64(2), int64(3), object(7)\n",
      "memory usage: 2.9+ MB\n"
     ]
    }
   ],
   "source": [
    "areas_to_keep = ['منطقة الرياض', 'منطقة مكة المكرمة', 'المنطقة الشرقية']\n",
    "\n",
    "df1 = df1[df1['area'].isin(areas_to_keep)]\n",
    "\n",
    "df1.info()"
   ]
  },
  {
   "cell_type": "markdown",
   "id": "95a6280a",
   "metadata": {},
   "source": [
    "**1.7 Accuracy Check**\n"
   ]
  },
  {
   "cell_type": "markdown",
   "id": "834b7567",
   "metadata": {},
   "source": [
    "**1. Validating the appropriateness of data types for the dataset.**"
   ]
  },
  {
   "cell_type": "code",
   "execution_count": 123,
   "id": "5d377cbe",
   "metadata": {},
   "outputs": [
    {
     "name": "stdout",
     "output_type": "stream",
     "text": [
      "<class 'pandas.core.frame.DataFrame'>\n",
      "Index: 29336 entries, 0 to 44078\n",
      "Data columns (total 12 columns):\n",
      " #   Column                   Non-Null Count  Dtype  \n",
      "---  ------                   --------------  -----  \n",
      " 0   ref_num                  29336 non-null  int64  \n",
      " 1   area                     29336 non-null  object \n",
      " 2   city                     29336 non-null  object \n",
      " 3   district                 29336 non-null  object \n",
      " 4   Mukatat                  29336 non-null  object \n",
      " 5   date                     29336 non-null  object \n",
      " 6   property_classification  29336 non-null  object \n",
      " 7   property_type            29336 non-null  object \n",
      " 8   number_of_properties     29336 non-null  int64  \n",
      " 9   price                    29336 non-null  int64  \n",
      " 10  space                    29336 non-null  float64\n",
      " 11  Price_per_square_meter   29336 non-null  float64\n",
      "dtypes: float64(2), int64(3), object(7)\n",
      "memory usage: 2.9+ MB\n"
     ]
    }
   ],
   "source": [
    "df1.info()"
   ]
  },
  {
   "cell_type": "code",
   "execution_count": 124,
   "id": "77e64e82",
   "metadata": {},
   "outputs": [
    {
     "data": {
      "text/html": [
       "<div>\n",
       "<style scoped>\n",
       "    .dataframe tbody tr th:only-of-type {\n",
       "        vertical-align: middle;\n",
       "    }\n",
       "\n",
       "    .dataframe tbody tr th {\n",
       "        vertical-align: top;\n",
       "    }\n",
       "\n",
       "    .dataframe thead th {\n",
       "        text-align: right;\n",
       "    }\n",
       "</style>\n",
       "<table border=\"1\" class=\"dataframe\">\n",
       "  <thead>\n",
       "    <tr style=\"text-align: right;\">\n",
       "      <th></th>\n",
       "      <th>ref_num</th>\n",
       "      <th>area</th>\n",
       "      <th>city</th>\n",
       "      <th>district</th>\n",
       "      <th>Mukatat</th>\n",
       "      <th>date</th>\n",
       "      <th>property_classification</th>\n",
       "      <th>property_type</th>\n",
       "      <th>number_of_properties</th>\n",
       "      <th>price</th>\n",
       "      <th>space</th>\n",
       "      <th>Price_per_square_meter</th>\n",
       "    </tr>\n",
       "  </thead>\n",
       "  <tbody>\n",
       "    <tr>\n",
       "      <th>26494</th>\n",
       "      <td>19309627</td>\n",
       "      <td>المنطقة الشرقية</td>\n",
       "      <td>العيون</td>\n",
       "      <td>هجر</td>\n",
       "      <td>4/440</td>\n",
       "      <td>2/20/2023</td>\n",
       "      <td>سكني</td>\n",
       "      <td>قطعة أرض</td>\n",
       "      <td>1</td>\n",
       "      <td>350000</td>\n",
       "      <td>400.00</td>\n",
       "      <td>875.0000</td>\n",
       "    </tr>\n",
       "    <tr>\n",
       "      <th>24929</th>\n",
       "      <td>19324074</td>\n",
       "      <td>المنطقة الشرقية</td>\n",
       "      <td>الخبر</td>\n",
       "      <td>العزيزية</td>\n",
       "      <td>92/2</td>\n",
       "      <td>2/17/2023</td>\n",
       "      <td>سكني</td>\n",
       "      <td>قطعة أرض</td>\n",
       "      <td>1</td>\n",
       "      <td>825000</td>\n",
       "      <td>875.00</td>\n",
       "      <td>942.8571</td>\n",
       "    </tr>\n",
       "    <tr>\n",
       "      <th>35242</th>\n",
       "      <td>19503138</td>\n",
       "      <td>المنطقة الشرقية</td>\n",
       "      <td>ابقيق</td>\n",
       "      <td>حي/أخرى</td>\n",
       "      <td>12/17/م</td>\n",
       "      <td>3/12/2023</td>\n",
       "      <td>تجاري</td>\n",
       "      <td>قطعة أرض</td>\n",
       "      <td>1</td>\n",
       "      <td>40000</td>\n",
       "      <td>657.07</td>\n",
       "      <td>60.8763</td>\n",
       "    </tr>\n",
       "    <tr>\n",
       "      <th>14429</th>\n",
       "      <td>19077093</td>\n",
       "      <td>منطقة الرياض</td>\n",
       "      <td>الرياض</td>\n",
       "      <td>الملقا</td>\n",
       "      <td>3114</td>\n",
       "      <td>1/30/2023</td>\n",
       "      <td>زراعي</td>\n",
       "      <td>شقة</td>\n",
       "      <td>1</td>\n",
       "      <td>1450000</td>\n",
       "      <td>133.74</td>\n",
       "      <td>10841.9321</td>\n",
       "    </tr>\n",
       "    <tr>\n",
       "      <th>6757</th>\n",
       "      <td>19042654</td>\n",
       "      <td>منطقة الرياض</td>\n",
       "      <td>الرياض</td>\n",
       "      <td>نمار</td>\n",
       "      <td>2996</td>\n",
       "      <td>1/15/2023</td>\n",
       "      <td>سكني</td>\n",
       "      <td>قطعة أرض</td>\n",
       "      <td>1</td>\n",
       "      <td>1080000</td>\n",
       "      <td>600.00</td>\n",
       "      <td>1800.0000</td>\n",
       "    </tr>\n",
       "  </tbody>\n",
       "</table>\n",
       "</div>"
      ],
      "text/plain": [
       "        ref_num             area    city  district  Mukatat       date  \\\n",
       "26494  19309627  المنطقة الشرقية  العيون       هجر    4/440  2/20/2023   \n",
       "24929  19324074  المنطقة الشرقية   الخبر  العزيزية     92/2  2/17/2023   \n",
       "35242  19503138  المنطقة الشرقية   ابقيق   حي/أخرى  12/17/م  3/12/2023   \n",
       "14429  19077093     منطقة الرياض  الرياض    الملقا     3114  1/30/2023   \n",
       "6757   19042654     منطقة الرياض  الرياض      نمار     2996  1/15/2023   \n",
       "\n",
       "      property_classification property_type  number_of_properties    price  \\\n",
       "26494                    سكني      قطعة أرض                     1   350000   \n",
       "24929                    سكني      قطعة أرض                     1   825000   \n",
       "35242                   تجاري      قطعة أرض                     1    40000   \n",
       "14429                   زراعي           شقة                     1  1450000   \n",
       "6757                     سكني      قطعة أرض                     1  1080000   \n",
       "\n",
       "        space  Price_per_square_meter  \n",
       "26494  400.00                875.0000  \n",
       "24929  875.00                942.8571  \n",
       "35242  657.07                 60.8763  \n",
       "14429  133.74              10841.9321  \n",
       "6757   600.00               1800.0000  "
      ]
     },
     "execution_count": 124,
     "metadata": {},
     "output_type": "execute_result"
    }
   ],
   "source": [
    "df1.sample(5)"
   ]
  },
  {
   "cell_type": "markdown",
   "id": "5cc5894e",
   "metadata": {},
   "source": [
    "**2. Identifying outliers  using established validation  rule**"
   ]
  },
  {
   "cell_type": "code",
   "execution_count": 125,
   "id": "0f70aa53",
   "metadata": {},
   "outputs": [],
   "source": [
    "def remove_outliers(df, column_name):\n",
    "    mean = df[column_name].mean()\n",
    "    std_dev = df[column_name].std()\n",
    "    return df[(df[column_name] > (mean - 2 * std_dev)) & (df[column_name] < (mean + 2 * std_dev))]"
   ]
  },
  {
   "cell_type": "code",
   "execution_count": 126,
   "id": "58aab52b",
   "metadata": {},
   "outputs": [],
   "source": [
    "df1 = remove_outliers(df1, 'Price_per_square_meter')\n",
    "df1 = remove_outliers(df1, 'price')\n",
    "df1 = remove_outliers(df1, 'space')\n"
   ]
  },
  {
   "cell_type": "code",
   "execution_count": 127,
   "id": "4cf43c16",
   "metadata": {},
   "outputs": [
    {
     "data": {
      "text/html": [
       "<div>\n",
       "<style scoped>\n",
       "    .dataframe tbody tr th:only-of-type {\n",
       "        vertical-align: middle;\n",
       "    }\n",
       "\n",
       "    .dataframe tbody tr th {\n",
       "        vertical-align: top;\n",
       "    }\n",
       "\n",
       "    .dataframe thead th {\n",
       "        text-align: right;\n",
       "    }\n",
       "</style>\n",
       "<table border=\"1\" class=\"dataframe\">\n",
       "  <thead>\n",
       "    <tr style=\"text-align: right;\">\n",
       "      <th></th>\n",
       "      <th>ref_num</th>\n",
       "      <th>area</th>\n",
       "      <th>city</th>\n",
       "      <th>district</th>\n",
       "      <th>Mukatat</th>\n",
       "      <th>date</th>\n",
       "      <th>property_classification</th>\n",
       "      <th>property_type</th>\n",
       "      <th>number_of_properties</th>\n",
       "      <th>price</th>\n",
       "      <th>space</th>\n",
       "      <th>Price_per_square_meter</th>\n",
       "    </tr>\n",
       "  </thead>\n",
       "  <tbody>\n",
       "    <tr>\n",
       "      <th>24454</th>\n",
       "      <td>19306046</td>\n",
       "      <td>منطقة مكة المكرمة</td>\n",
       "      <td>رنيه</td>\n",
       "      <td>حي/أخرى</td>\n",
       "      <td>أخرى</td>\n",
       "      <td>2/16/2023</td>\n",
       "      <td>سكني</td>\n",
       "      <td>قطعة أرض</td>\n",
       "      <td>1</td>\n",
       "      <td>10000</td>\n",
       "      <td>62347.0</td>\n",
       "      <td>0.1603</td>\n",
       "    </tr>\n",
       "    <tr>\n",
       "      <th>12357</th>\n",
       "      <td>19116046</td>\n",
       "      <td>منطقة الرياض</td>\n",
       "      <td>وادي الدواسر</td>\n",
       "      <td>أخرى</td>\n",
       "      <td>أخرى</td>\n",
       "      <td>1/25/2023</td>\n",
       "      <td>زراعي</td>\n",
       "      <td>أرض زراعية</td>\n",
       "      <td>1</td>\n",
       "      <td>20000</td>\n",
       "      <td>101000.0</td>\n",
       "      <td>0.1980</td>\n",
       "    </tr>\n",
       "    <tr>\n",
       "      <th>9191</th>\n",
       "      <td>19069946</td>\n",
       "      <td>منطقة الرياض</td>\n",
       "      <td>المزاحميه</td>\n",
       "      <td>أخرى</td>\n",
       "      <td>أخرى</td>\n",
       "      <td>1/19/2023</td>\n",
       "      <td>زراعي</td>\n",
       "      <td>أرض زراعية</td>\n",
       "      <td>1</td>\n",
       "      <td>10000</td>\n",
       "      <td>50000.0</td>\n",
       "      <td>0.2000</td>\n",
       "    </tr>\n",
       "    <tr>\n",
       "      <th>8254</th>\n",
       "      <td>19061021</td>\n",
       "      <td>المنطقة الشرقية</td>\n",
       "      <td>حرض</td>\n",
       "      <td>أخرى</td>\n",
       "      <td>أخرى</td>\n",
       "      <td>1/17/2023</td>\n",
       "      <td>زراعي</td>\n",
       "      <td>أرض زراعية</td>\n",
       "      <td>1</td>\n",
       "      <td>10000</td>\n",
       "      <td>50000.0</td>\n",
       "      <td>0.2000</td>\n",
       "    </tr>\n",
       "    <tr>\n",
       "      <th>40944</th>\n",
       "      <td>19496718</td>\n",
       "      <td>منطقة الرياض</td>\n",
       "      <td>مرات</td>\n",
       "      <td>حي/أخرى</td>\n",
       "      <td>أخرى</td>\n",
       "      <td>3/23/2023</td>\n",
       "      <td>زراعي</td>\n",
       "      <td>أرض زراعية</td>\n",
       "      <td>1</td>\n",
       "      <td>20000</td>\n",
       "      <td>80800.0</td>\n",
       "      <td>0.2475</td>\n",
       "    </tr>\n",
       "    <tr>\n",
       "      <th>43096</th>\n",
       "      <td>19663450</td>\n",
       "      <td>منطقة الرياض</td>\n",
       "      <td>شقراء</td>\n",
       "      <td>حي/أخرى</td>\n",
       "      <td>أخرى</td>\n",
       "      <td>3/29/2023</td>\n",
       "      <td>زراعي</td>\n",
       "      <td>أرض زراعية</td>\n",
       "      <td>1</td>\n",
       "      <td>30000</td>\n",
       "      <td>100000.0</td>\n",
       "      <td>0.3000</td>\n",
       "    </tr>\n",
       "    <tr>\n",
       "      <th>43095</th>\n",
       "      <td>19662602</td>\n",
       "      <td>منطقة الرياض</td>\n",
       "      <td>شقراء</td>\n",
       "      <td>حي/أخرى</td>\n",
       "      <td>أخرى</td>\n",
       "      <td>3/29/2023</td>\n",
       "      <td>زراعي</td>\n",
       "      <td>أرض زراعية</td>\n",
       "      <td>1</td>\n",
       "      <td>30000</td>\n",
       "      <td>100000.0</td>\n",
       "      <td>0.3000</td>\n",
       "    </tr>\n",
       "    <tr>\n",
       "      <th>43094</th>\n",
       "      <td>19662927</td>\n",
       "      <td>منطقة الرياض</td>\n",
       "      <td>شقراء</td>\n",
       "      <td>حي/أخرى</td>\n",
       "      <td>أخرى</td>\n",
       "      <td>3/29/2023</td>\n",
       "      <td>زراعي</td>\n",
       "      <td>أرض زراعية</td>\n",
       "      <td>1</td>\n",
       "      <td>30000</td>\n",
       "      <td>100000.0</td>\n",
       "      <td>0.3000</td>\n",
       "    </tr>\n",
       "    <tr>\n",
       "      <th>43122</th>\n",
       "      <td>19659224</td>\n",
       "      <td>منطقة الرياض</td>\n",
       "      <td>وادي الدواسر</td>\n",
       "      <td>أخرى</td>\n",
       "      <td>أخرى</td>\n",
       "      <td>3/29/2023</td>\n",
       "      <td>تجاري</td>\n",
       "      <td>قطعة أرض</td>\n",
       "      <td>1</td>\n",
       "      <td>50000</td>\n",
       "      <td>135412.0</td>\n",
       "      <td>0.3692</td>\n",
       "    </tr>\n",
       "    <tr>\n",
       "      <th>30542</th>\n",
       "      <td>19414483</td>\n",
       "      <td>منطقة الرياض</td>\n",
       "      <td>وادي الدواسر</td>\n",
       "      <td>أخرى</td>\n",
       "      <td>أخرى</td>\n",
       "      <td>3/1/2023</td>\n",
       "      <td>زراعي</td>\n",
       "      <td>أرض زراعية</td>\n",
       "      <td>1</td>\n",
       "      <td>60000</td>\n",
       "      <td>159379.0</td>\n",
       "      <td>0.3764</td>\n",
       "    </tr>\n",
       "  </tbody>\n",
       "</table>\n",
       "</div>"
      ],
      "text/plain": [
       "        ref_num               area          city district Mukatat       date  \\\n",
       "24454  19306046  منطقة مكة المكرمة          رنيه  حي/أخرى    أخرى  2/16/2023   \n",
       "12357  19116046       منطقة الرياض  وادي الدواسر     أخرى    أخرى  1/25/2023   \n",
       "9191   19069946       منطقة الرياض     المزاحميه     أخرى    أخرى  1/19/2023   \n",
       "8254   19061021    المنطقة الشرقية           حرض     أخرى    أخرى  1/17/2023   \n",
       "40944  19496718       منطقة الرياض          مرات  حي/أخرى    أخرى  3/23/2023   \n",
       "43096  19663450       منطقة الرياض         شقراء  حي/أخرى    أخرى  3/29/2023   \n",
       "43095  19662602       منطقة الرياض         شقراء  حي/أخرى    أخرى  3/29/2023   \n",
       "43094  19662927       منطقة الرياض         شقراء  حي/أخرى    أخرى  3/29/2023   \n",
       "43122  19659224       منطقة الرياض  وادي الدواسر     أخرى    أخرى  3/29/2023   \n",
       "30542  19414483       منطقة الرياض  وادي الدواسر     أخرى    أخرى   3/1/2023   \n",
       "\n",
       "      property_classification property_type  number_of_properties  price  \\\n",
       "24454                    سكني      قطعة أرض                     1  10000   \n",
       "12357                   زراعي    أرض زراعية                     1  20000   \n",
       "9191                    زراعي    أرض زراعية                     1  10000   \n",
       "8254                    زراعي    أرض زراعية                     1  10000   \n",
       "40944                   زراعي    أرض زراعية                     1  20000   \n",
       "43096                   زراعي    أرض زراعية                     1  30000   \n",
       "43095                   زراعي    أرض زراعية                     1  30000   \n",
       "43094                   زراعي    أرض زراعية                     1  30000   \n",
       "43122                   تجاري      قطعة أرض                     1  50000   \n",
       "30542                   زراعي    أرض زراعية                     1  60000   \n",
       "\n",
       "          space  Price_per_square_meter  \n",
       "24454   62347.0                  0.1603  \n",
       "12357  101000.0                  0.1980  \n",
       "9191    50000.0                  0.2000  \n",
       "8254    50000.0                  0.2000  \n",
       "40944   80800.0                  0.2475  \n",
       "43096  100000.0                  0.3000  \n",
       "43095  100000.0                  0.3000  \n",
       "43094  100000.0                  0.3000  \n",
       "43122  135412.0                  0.3692  \n",
       "30542  159379.0                  0.3764  "
      ]
     },
     "execution_count": 127,
     "metadata": {},
     "output_type": "execute_result"
    }
   ],
   "source": [
    "df1.sort_values(by='Price_per_square_meter',ascending=True).head(10)"
   ]
  },
  {
   "cell_type": "code",
   "execution_count": 128,
   "id": "a6425187",
   "metadata": {},
   "outputs": [
    {
     "data": {
      "text/plain": [
       "district\n",
       "حي/أخرى    3589\n",
       "أخرى       2130\n",
       "الخير       899\n",
       "البرود      630\n",
       "جلمودة      615\n",
       "           ... \n",
       "الشمالى       1\n",
       "الحبيل        1\n",
       "الضاحية       1\n",
       "الروضه        1\n",
       "الراية        1\n",
       "Name: count, Length: 399, dtype: int64"
      ]
     },
     "execution_count": 128,
     "metadata": {},
     "output_type": "execute_result"
    }
   ],
   "source": [
    "df1['district'].value_counts()"
   ]
  },
  {
   "cell_type": "code",
   "execution_count": 129,
   "id": "73a79503",
   "metadata": {},
   "outputs": [
    {
     "name": "stdout",
     "output_type": "stream",
     "text": [
      "<class 'pandas.core.frame.DataFrame'>\n",
      "Index: 27967 entries, 0 to 44078\n",
      "Data columns (total 12 columns):\n",
      " #   Column                   Non-Null Count  Dtype  \n",
      "---  ------                   --------------  -----  \n",
      " 0   ref_num                  27967 non-null  int64  \n",
      " 1   area                     27967 non-null  object \n",
      " 2   city                     27967 non-null  object \n",
      " 3   district                 27967 non-null  object \n",
      " 4   Mukatat                  27967 non-null  object \n",
      " 5   date                     27967 non-null  object \n",
      " 6   property_classification  27967 non-null  object \n",
      " 7   property_type            27967 non-null  object \n",
      " 8   number_of_properties     27967 non-null  int64  \n",
      " 9   price                    27967 non-null  int64  \n",
      " 10  space                    27967 non-null  float64\n",
      " 11  Price_per_square_meter   27967 non-null  float64\n",
      "dtypes: float64(2), int64(3), object(7)\n",
      "memory usage: 2.8+ MB\n"
     ]
    }
   ],
   "source": [
    "df1.info()"
   ]
  },
  {
   "cell_type": "code",
   "execution_count": 130,
   "id": "4a4af30d",
   "metadata": {},
   "outputs": [
    {
     "name": "stdout",
     "output_type": "stream",
     "text": [
      "\n",
      "Unique property types:\n",
      "['قطعة أرض' 'بيت' 'أرض زراعية' 'شقة' 'عمارة' 'معرض/محل' 'فيلا' 'إستراحة'\n",
      " 'مركز تجاري' 'مرفق']\n"
     ]
    }
   ],
   "source": [
    "print(\"\\nUnique property types:\")\n",
    "print(df1['property_type'].unique())"
   ]
  },
  {
   "cell_type": "code",
   "execution_count": 131,
   "id": "7b4ed646",
   "metadata": {},
   "outputs": [
    {
     "name": "stdout",
     "output_type": "stream",
     "text": [
      "\n",
      "District counts:\n",
      "district\n",
      "حي/أخرى    3589\n",
      "أخرى       2130\n",
      "الخير       899\n",
      "البرود      630\n",
      "جلمودة      615\n",
      "           ... \n",
      "الشمالى       1\n",
      "الحبيل        1\n",
      "الضاحية       1\n",
      "الروضه        1\n",
      "الراية        1\n",
      "Name: count, Length: 399, dtype: int64\n"
     ]
    }
   ],
   "source": [
    "print(\"\\nDistrict counts:\")\n",
    "print(df1['district'].value_counts())"
   ]
  },
  {
   "cell_type": "code",
   "execution_count": 132,
   "id": "617f5d69",
   "metadata": {},
   "outputs": [
    {
     "name": "stdout",
     "output_type": "stream",
     "text": [
      "\n",
      "Area counts:\n",
      "area\n",
      "منطقة الرياض         13520\n",
      "منطقة مكة المكرمة     7784\n",
      "المنطقة الشرقية       6663\n",
      "Name: count, dtype: int64\n"
     ]
    }
   ],
   "source": [
    "print(\"\\nArea counts:\")\n",
    "print(df1['area'].value_counts())"
   ]
  },
  {
   "cell_type": "code",
   "execution_count": 133,
   "id": "f03359fe",
   "metadata": {},
   "outputs": [
    {
     "name": "stdout",
     "output_type": "stream",
     "text": [
      "\n",
      "City counts:\n",
      "city\n",
      "الرياض              8537\n",
      "جده                 4483\n",
      "مكة المكرمة         1724\n",
      "الدمام              1504\n",
      "شقراء               1350\n",
      "العيون              1326\n",
      "حفر الباطن           911\n",
      "الجبيل               887\n",
      "الخرج                833\n",
      "الطائف               771\n",
      "الخبر                769\n",
      "المزاحميه            735\n",
      "القطيف               432\n",
      "عفيف                 326\n",
      "النعيريه             271\n",
      "الدرعيه              257\n",
      "القنفذه              254\n",
      "الدوادمي             234\n",
      "الزلفي               200\n",
      "رنيه                 200\n",
      "الخفجي               197\n",
      "ابقيق                178\n",
      "الافلاج              152\n",
      "رابغ                 116\n",
      "رماح                 108\n",
      "حوطة سدير             98\n",
      "ضرماء                 94\n",
      "قرية العليا           89\n",
      "ثادق                  88\n",
      "الدلم                 81\n",
      "حوطة بني تميم         79\n",
      "حريملاء               73\n",
      "وادي الدواسر          66\n",
      "الخرمه                60\n",
      "حرض                   59\n",
      "تربه                  57\n",
      "الليث                 56\n",
      "الغاط                 54\n",
      "مرات                  46\n",
      "رأس تنوره             40\n",
      "البجاديه              39\n",
      "السليل                32\n",
      "الرين                 28\n",
      "المويه                25\n",
      "أضم                   17\n",
      "العرضيه الجنوبيه      17\n",
      "رفائع الجمش           10\n",
      "ميسان                  4\n",
      "Name: count, dtype: int64\n"
     ]
    }
   ],
   "source": [
    "print(\"\\nCity counts:\")\n",
    "print(df1['city'].value_counts())"
   ]
  },
  {
   "cell_type": "code",
   "execution_count": 134,
   "id": "1b08174f",
   "metadata": {},
   "outputs": [],
   "source": [
    "df1.to_csv(\"Cleaneddata2023.csv\", index=False)\n"
   ]
  },
  {
   "cell_type": "code",
   "execution_count": null,
   "id": "dcd72551",
   "metadata": {},
   "outputs": [],
   "source": []
  }
 ],
 "metadata": {
  "kernelspec": {
   "display_name": "Python 3",
   "language": "python",
   "name": "python3"
  },
  "language_info": {
   "codemirror_mode": {
    "name": "ipython",
    "version": 3
   },
   "file_extension": ".py",
   "mimetype": "text/x-python",
   "name": "python",
   "nbconvert_exporter": "python",
   "pygments_lexer": "ipython3",
   "version": "3.12.4"
  }
 },
 "nbformat": 4,
 "nbformat_minor": 5
}
