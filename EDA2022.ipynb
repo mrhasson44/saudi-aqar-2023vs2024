{
 "cells": [
  {
   "cell_type": "code",
   "execution_count": 116,
   "id": "a009363e-095f-4529-8101-80d6ee9c2dd6",
   "metadata": {},
   "outputs": [],
   "source": [
    "import pandas as pd\n",
    "import matplotlib.pyplot as plt"
   ]
  },
  {
   "cell_type": "markdown",
   "id": "b2cceeb2",
   "metadata": {},
   "source": [
    "## Loading Data & Renaming"
   ]
  },
  {
   "cell_type": "code",
   "execution_count": 117,
   "id": "d67b7256-9d94-4043-aefc-94c4e044b596",
   "metadata": {},
   "outputs": [],
   "source": [
    "df1 = pd.read_csv('2022_q1.csv')"
   ]
  },
  {
   "cell_type": "markdown",
   "id": "0f413423",
   "metadata": {},
   "source": [
    "## 1. Data Profiling"
   ]
  },
  {
   "cell_type": "code",
   "execution_count": 118,
   "id": "57e0224f",
   "metadata": {},
   "outputs": [
    {
     "name": "stdout",
     "output_type": "stream",
     "text": [
      "<class 'pandas.core.frame.DataFrame'>\n",
      "RangeIndex: 59846 entries, 0 to 59845\n",
      "Data columns (total 13 columns):\n",
      " #   Column                 Non-Null Count  Dtype  \n",
      "---  ------                 --------------  -----  \n",
      " 0   رقم مرجعي              59846 non-null  int64  \n",
      " 1   المنطقة                59846 non-null  object \n",
      " 2   المدينة                59846 non-null  object \n",
      " 3   الحي                   59846 non-null  object \n",
      " 4   المخطط                 59846 non-null  object \n",
      " 5   رقم القطعة             59846 non-null  object \n",
      " 6   التاريخ                59846 non-null  object \n",
      " 7   تصنيف العقار           59846 non-null  object \n",
      " 8   نوع العقار             59846 non-null  object \n",
      " 9   عدد العقارات           59846 non-null  int64  \n",
      " 10  السعر بالريال السعودي  59846 non-null  int64  \n",
      " 11  المساحة                59846 non-null  float64\n",
      " 12  سعر المتر المربع       59846 non-null  float64\n",
      "dtypes: float64(2), int64(3), object(8)\n",
      "memory usage: 5.9+ MB\n"
     ]
    }
   ],
   "source": [
    "df1.info()"
   ]
  },
  {
   "cell_type": "markdown",
   "id": "e49377ee",
   "metadata": {},
   "source": [
    "**1.1 Reliability**"
   ]
  },
  {
   "cell_type": "markdown",
   "id": "2263cea2",
   "metadata": {},
   "source": [
    "1- Data Source: Got it from Kaggle Where Its Originally from Open Data Authority\n",
    "\n",
    "\n",
    "2- Link for the Data: https://www.kaggle.com/datasets/desperateyazeed/saudi-arabia-real-estate-datasets-2022q1-and-2023q1?select=before_cleaning_realestate_2022_q1.csv"
   ]
  },
  {
   "cell_type": "markdown",
   "id": "c021484b",
   "metadata": {},
   "source": [
    "**1.2 Timeliness**\n",
    "\n",
    "Date of the data: 2022 & 2023\n",
    "\n",
    "2 years old"
   ]
  },
  {
   "cell_type": "markdown",
   "id": "efe8f6c4",
   "metadata": {},
   "source": [
    "**1.3 Consistency:** \n",
    "\n",
    "1- data is consistent within the two datasets 2022 & 2023\n"
   ]
  },
  {
   "cell_type": "code",
   "execution_count": 119,
   "id": "839693fe",
   "metadata": {},
   "outputs": [
    {
     "data": {
      "text/html": [
       "<div>\n",
       "<style scoped>\n",
       "    .dataframe tbody tr th:only-of-type {\n",
       "        vertical-align: middle;\n",
       "    }\n",
       "\n",
       "    .dataframe tbody tr th {\n",
       "        vertical-align: top;\n",
       "    }\n",
       "\n",
       "    .dataframe thead th {\n",
       "        text-align: right;\n",
       "    }\n",
       "</style>\n",
       "<table border=\"1\" class=\"dataframe\">\n",
       "  <thead>\n",
       "    <tr style=\"text-align: right;\">\n",
       "      <th></th>\n",
       "      <th>رقم مرجعي</th>\n",
       "      <th>المنطقة</th>\n",
       "      <th>المدينة</th>\n",
       "      <th>الحي</th>\n",
       "      <th>المخطط</th>\n",
       "      <th>رقم القطعة</th>\n",
       "      <th>التاريخ</th>\n",
       "      <th>تصنيف العقار</th>\n",
       "      <th>نوع العقار</th>\n",
       "      <th>عدد العقارات</th>\n",
       "      <th>السعر بالريال السعودي</th>\n",
       "      <th>المساحة</th>\n",
       "      <th>سعر المتر المربع</th>\n",
       "    </tr>\n",
       "  </thead>\n",
       "  <tbody>\n",
       "    <tr>\n",
       "      <th>0</th>\n",
       "      <td>16074562</td>\n",
       "      <td>منطقة الرياض</td>\n",
       "      <td>الافلاج</td>\n",
       "      <td>حي/الخالدية</td>\n",
       "      <td>مخطط/349</td>\n",
       "      <td>قطعة 255</td>\n",
       "      <td>2/1/2022</td>\n",
       "      <td>سكني</td>\n",
       "      <td>قطعة أرض</td>\n",
       "      <td>1</td>\n",
       "      <td>70000</td>\n",
       "      <td>820.53</td>\n",
       "      <td>85.3107</td>\n",
       "    </tr>\n",
       "    <tr>\n",
       "      <th>1</th>\n",
       "      <td>16077290</td>\n",
       "      <td>منطقة الرياض</td>\n",
       "      <td>البجاديه</td>\n",
       "      <td>حي/11 بالدخل المحدود غرب البجادية</td>\n",
       "      <td>مخطط/أخرى</td>\n",
       "      <td>قطعة 448</td>\n",
       "      <td>2/1/2022</td>\n",
       "      <td>سكني</td>\n",
       "      <td>قطعة أرض</td>\n",
       "      <td>1</td>\n",
       "      <td>10000</td>\n",
       "      <td>625.00</td>\n",
       "      <td>16.0000</td>\n",
       "    </tr>\n",
       "    <tr>\n",
       "      <th>2</th>\n",
       "      <td>16077316</td>\n",
       "      <td>منطقة الرياض</td>\n",
       "      <td>الخرج</td>\n",
       "      <td>حي/60حى اليرموك مخطط 1009 الجزء الثانى</td>\n",
       "      <td>مخطط/أخرى</td>\n",
       "      <td>قطعة 1063</td>\n",
       "      <td>2/1/2022</td>\n",
       "      <td>سكني</td>\n",
       "      <td>قطعة أرض</td>\n",
       "      <td>1</td>\n",
       "      <td>100000</td>\n",
       "      <td>624.07</td>\n",
       "      <td>160.2384</td>\n",
       "    </tr>\n",
       "    <tr>\n",
       "      <th>3</th>\n",
       "      <td>16073025</td>\n",
       "      <td>منطقة الرياض</td>\n",
       "      <td>الخرج</td>\n",
       "      <td>حي/68 حى اليرموك مخطط 1009/ 2</td>\n",
       "      <td>مخطط/أخرى</td>\n",
       "      <td>قطعة 1222</td>\n",
       "      <td>2/1/2022</td>\n",
       "      <td>تجاري</td>\n",
       "      <td>قطعة أرض</td>\n",
       "      <td>1</td>\n",
       "      <td>110000</td>\n",
       "      <td>581.05</td>\n",
       "      <td>189.3124</td>\n",
       "    </tr>\n",
       "    <tr>\n",
       "      <th>4</th>\n",
       "      <td>16069867</td>\n",
       "      <td>منطقة الرياض</td>\n",
       "      <td>الخرج</td>\n",
       "      <td>حي/827 حى هجرة الصاع</td>\n",
       "      <td>مخطط/أخرى</td>\n",
       "      <td>قطعة 1071</td>\n",
       "      <td>2/1/2022</td>\n",
       "      <td>سكني</td>\n",
       "      <td>قطعة أرض</td>\n",
       "      <td>1</td>\n",
       "      <td>40000</td>\n",
       "      <td>630.00</td>\n",
       "      <td>63.4920</td>\n",
       "    </tr>\n",
       "    <tr>\n",
       "      <th>5</th>\n",
       "      <td>16072890</td>\n",
       "      <td>منطقة الرياض</td>\n",
       "      <td>الخرج</td>\n",
       "      <td>حي/الثليماء</td>\n",
       "      <td>مخطط/1427</td>\n",
       "      <td>قطعة 329</td>\n",
       "      <td>2/1/2022</td>\n",
       "      <td>سكني</td>\n",
       "      <td>قطعة أرض</td>\n",
       "      <td>1</td>\n",
       "      <td>100000</td>\n",
       "      <td>500.00</td>\n",
       "      <td>200.0000</td>\n",
       "    </tr>\n",
       "    <tr>\n",
       "      <th>6</th>\n",
       "      <td>16073067</td>\n",
       "      <td>منطقة الرياض</td>\n",
       "      <td>الخرج</td>\n",
       "      <td>حي/الثليماء</td>\n",
       "      <td>مخطط/1427</td>\n",
       "      <td>قطعة 331</td>\n",
       "      <td>2/1/2022</td>\n",
       "      <td>سكني</td>\n",
       "      <td>قطعة أرض</td>\n",
       "      <td>1</td>\n",
       "      <td>100000</td>\n",
       "      <td>500.00</td>\n",
       "      <td>200.0000</td>\n",
       "    </tr>\n",
       "    <tr>\n",
       "      <th>7</th>\n",
       "      <td>16076487</td>\n",
       "      <td>منطقة الرياض</td>\n",
       "      <td>الخرج</td>\n",
       "      <td>حي/الخالديه</td>\n",
       "      <td>مخطط/97</td>\n",
       "      <td>قطعة 141</td>\n",
       "      <td>2/1/2022</td>\n",
       "      <td>سكني</td>\n",
       "      <td>قطعة أرض</td>\n",
       "      <td>1</td>\n",
       "      <td>240000</td>\n",
       "      <td>390.00</td>\n",
       "      <td>615.3846</td>\n",
       "    </tr>\n",
       "    <tr>\n",
       "      <th>8</th>\n",
       "      <td>16071878</td>\n",
       "      <td>منطقة الرياض</td>\n",
       "      <td>الخرج</td>\n",
       "      <td>حي/الزاهر</td>\n",
       "      <td>مخطط/529</td>\n",
       "      <td>قطعة 2765</td>\n",
       "      <td>2/1/2022</td>\n",
       "      <td>سكني</td>\n",
       "      <td>قطعة أرض</td>\n",
       "      <td>1</td>\n",
       "      <td>1330000</td>\n",
       "      <td>1125.00</td>\n",
       "      <td>1182.2222</td>\n",
       "    </tr>\n",
       "    <tr>\n",
       "      <th>9</th>\n",
       "      <td>16022069</td>\n",
       "      <td>منطقة الرياض</td>\n",
       "      <td>الخرج</td>\n",
       "      <td>حي/العيينة</td>\n",
       "      <td>مخطط/أخرى</td>\n",
       "      <td>قطعة 72</td>\n",
       "      <td>2/1/2022</td>\n",
       "      <td>سكني</td>\n",
       "      <td>قطعة أرض</td>\n",
       "      <td>1</td>\n",
       "      <td>30000</td>\n",
       "      <td>368.44</td>\n",
       "      <td>81.4243</td>\n",
       "    </tr>\n",
       "  </tbody>\n",
       "</table>\n",
       "</div>"
      ],
      "text/plain": [
       "   رقم مرجعي       المنطقة   المدينة                                    الحي  \\\n",
       "0   16074562  منطقة الرياض   الافلاج                             حي/الخالدية   \n",
       "1   16077290  منطقة الرياض  البجاديه       حي/11 بالدخل المحدود غرب البجادية   \n",
       "2   16077316  منطقة الرياض     الخرج  حي/60حى اليرموك مخطط 1009 الجزء الثانى   \n",
       "3   16073025  منطقة الرياض     الخرج           حي/68 حى اليرموك مخطط 1009/ 2   \n",
       "4   16069867  منطقة الرياض     الخرج                    حي/827 حى هجرة الصاع   \n",
       "5   16072890  منطقة الرياض     الخرج                             حي/الثليماء   \n",
       "6   16073067  منطقة الرياض     الخرج                             حي/الثليماء   \n",
       "7   16076487  منطقة الرياض     الخرج                             حي/الخالديه   \n",
       "8   16071878  منطقة الرياض     الخرج                               حي/الزاهر   \n",
       "9   16022069  منطقة الرياض     الخرج                              حي/العيينة   \n",
       "\n",
       "      المخطط  رقم القطعة   التاريخ تصنيف العقار نوع العقار  عدد العقارات  \\\n",
       "0   مخطط/349    قطعة 255  2/1/2022         سكني   قطعة أرض             1   \n",
       "1  مخطط/أخرى    قطعة 448  2/1/2022         سكني   قطعة أرض             1   \n",
       "2  مخطط/أخرى   قطعة 1063  2/1/2022         سكني   قطعة أرض             1   \n",
       "3  مخطط/أخرى   قطعة 1222  2/1/2022        تجاري   قطعة أرض             1   \n",
       "4  مخطط/أخرى   قطعة 1071  2/1/2022         سكني   قطعة أرض             1   \n",
       "5  مخطط/1427    قطعة 329  2/1/2022         سكني   قطعة أرض             1   \n",
       "6  مخطط/1427    قطعة 331  2/1/2022         سكني   قطعة أرض             1   \n",
       "7    مخطط/97    قطعة 141  2/1/2022         سكني   قطعة أرض             1   \n",
       "8   مخطط/529   قطعة 2765  2/1/2022         سكني   قطعة أرض             1   \n",
       "9  مخطط/أخرى     قطعة 72  2/1/2022         سكني   قطعة أرض             1   \n",
       "\n",
       "   السعر بالريال السعودي  المساحة   سعر المتر المربع  \n",
       "0                  70000    820.53           85.3107  \n",
       "1                  10000    625.00           16.0000  \n",
       "2                 100000    624.07          160.2384  \n",
       "3                 110000    581.05          189.3124  \n",
       "4                  40000    630.00           63.4920  \n",
       "5                 100000    500.00          200.0000  \n",
       "6                 100000    500.00          200.0000  \n",
       "7                 240000    390.00          615.3846  \n",
       "8                1330000   1125.00         1182.2222  \n",
       "9                  30000    368.44           81.4243  "
      ]
     },
     "execution_count": 119,
     "metadata": {},
     "output_type": "execute_result"
    }
   ],
   "source": [
    "df1.head(10)"
   ]
  },
  {
   "cell_type": "code",
   "execution_count": 120,
   "id": "42fcd079",
   "metadata": {},
   "outputs": [
    {
     "data": {
      "text/plain": [
       "رقم مرجعي                  int64\n",
       "المنطقة                   object\n",
       "المدينة                   object\n",
       "الحي                      object\n",
       "المخطط                    object\n",
       "رقم القطعة                object\n",
       "التاريخ                   object\n",
       "تصنيف العقار              object\n",
       "نوع العقار                object\n",
       "عدد العقارات               int64\n",
       "السعر بالريال السعودي      int64\n",
       "المساحة                  float64\n",
       "سعر المتر المربع         float64\n",
       "dtype: object"
      ]
     },
     "execution_count": 120,
     "metadata": {},
     "output_type": "execute_result"
    }
   ],
   "source": [
    "df1.dtypes"
   ]
  },
  {
   "cell_type": "markdown",
   "id": "a84cf3f9",
   "metadata": {},
   "source": [
    "**1.4 Relevance**\n",
    "\n",
    "Data is Skewed But Can Be Cleaned And Normalizied "
   ]
  },
  {
   "cell_type": "code",
   "execution_count": 121,
   "id": "206a749b",
   "metadata": {},
   "outputs": [
    {
     "data": {
      "text/html": [
       "<div>\n",
       "<style scoped>\n",
       "    .dataframe tbody tr th:only-of-type {\n",
       "        vertical-align: middle;\n",
       "    }\n",
       "\n",
       "    .dataframe tbody tr th {\n",
       "        vertical-align: top;\n",
       "    }\n",
       "\n",
       "    .dataframe thead th {\n",
       "        text-align: right;\n",
       "    }\n",
       "</style>\n",
       "<table border=\"1\" class=\"dataframe\">\n",
       "  <thead>\n",
       "    <tr style=\"text-align: right;\">\n",
       "      <th></th>\n",
       "      <th>رقم مرجعي</th>\n",
       "      <th>عدد العقارات</th>\n",
       "      <th>السعر بالريال السعودي</th>\n",
       "      <th>المساحة</th>\n",
       "      <th>سعر المتر المربع</th>\n",
       "    </tr>\n",
       "  </thead>\n",
       "  <tbody>\n",
       "    <tr>\n",
       "      <th>count</th>\n",
       "      <td>5.984600e+04</td>\n",
       "      <td>59846.000000</td>\n",
       "      <td>5.984600e+04</td>\n",
       "      <td>5.984600e+04</td>\n",
       "      <td>59846.000000</td>\n",
       "    </tr>\n",
       "    <tr>\n",
       "      <th>mean</th>\n",
       "      <td>1.637109e+07</td>\n",
       "      <td>1.030729</td>\n",
       "      <td>8.687596e+05</td>\n",
       "      <td>4.921410e+03</td>\n",
       "      <td>1302.610391</td>\n",
       "    </tr>\n",
       "    <tr>\n",
       "      <th>std</th>\n",
       "      <td>1.908103e+05</td>\n",
       "      <td>0.517559</td>\n",
       "      <td>5.347610e+06</td>\n",
       "      <td>6.591525e+04</td>\n",
       "      <td>2185.538330</td>\n",
       "    </tr>\n",
       "    <tr>\n",
       "      <th>min</th>\n",
       "      <td>1.489077e+07</td>\n",
       "      <td>1.000000</td>\n",
       "      <td>1.000000e+04</td>\n",
       "      <td>2.830000e+00</td>\n",
       "      <td>0.010000</td>\n",
       "    </tr>\n",
       "    <tr>\n",
       "      <th>25%</th>\n",
       "      <td>1.620996e+07</td>\n",
       "      <td>1.000000</td>\n",
       "      <td>1.400000e+05</td>\n",
       "      <td>4.037500e+02</td>\n",
       "      <td>207.429475</td>\n",
       "    </tr>\n",
       "    <tr>\n",
       "      <th>50%</th>\n",
       "      <td>1.634973e+07</td>\n",
       "      <td>1.000000</td>\n",
       "      <td>3.800000e+05</td>\n",
       "      <td>6.000000e+02</td>\n",
       "      <td>646.106700</td>\n",
       "    </tr>\n",
       "    <tr>\n",
       "      <th>75%</th>\n",
       "      <td>1.652857e+07</td>\n",
       "      <td>1.000000</td>\n",
       "      <td>8.000000e+05</td>\n",
       "      <td>7.800000e+02</td>\n",
       "      <td>1600.000000</td>\n",
       "    </tr>\n",
       "    <tr>\n",
       "      <th>max</th>\n",
       "      <td>1.673255e+07</td>\n",
       "      <td>56.000000</td>\n",
       "      <td>7.456640e+08</td>\n",
       "      <td>4.348793e+06</td>\n",
       "      <td>139854.706400</td>\n",
       "    </tr>\n",
       "  </tbody>\n",
       "</table>\n",
       "</div>"
      ],
      "text/plain": [
       "          رقم مرجعي  عدد العقارات  السعر بالريال السعودي      المساحة   \\\n",
       "count  5.984600e+04  59846.000000           5.984600e+04  5.984600e+04   \n",
       "mean   1.637109e+07      1.030729           8.687596e+05  4.921410e+03   \n",
       "std    1.908103e+05      0.517559           5.347610e+06  6.591525e+04   \n",
       "min    1.489077e+07      1.000000           1.000000e+04  2.830000e+00   \n",
       "25%    1.620996e+07      1.000000           1.400000e+05  4.037500e+02   \n",
       "50%    1.634973e+07      1.000000           3.800000e+05  6.000000e+02   \n",
       "75%    1.652857e+07      1.000000           8.000000e+05  7.800000e+02   \n",
       "max    1.673255e+07     56.000000           7.456640e+08  4.348793e+06   \n",
       "\n",
       "       سعر المتر المربع  \n",
       "count      59846.000000  \n",
       "mean        1302.610391  \n",
       "std         2185.538330  \n",
       "min            0.010000  \n",
       "25%          207.429475  \n",
       "50%          646.106700  \n",
       "75%         1600.000000  \n",
       "max       139854.706400  "
      ]
     },
     "execution_count": 121,
     "metadata": {},
     "output_type": "execute_result"
    }
   ],
   "source": [
    "df1.describe()"
   ]
  },
  {
   "cell_type": "code",
   "execution_count": 122,
   "id": "bffd3556",
   "metadata": {},
   "outputs": [
    {
     "name": "stdout",
     "output_type": "stream",
     "text": [
      "<class 'pandas.core.frame.DataFrame'>\n",
      "RangeIndex: 59846 entries, 0 to 59845\n",
      "Data columns (total 13 columns):\n",
      " #   Column                 Non-Null Count  Dtype  \n",
      "---  ------                 --------------  -----  \n",
      " 0   رقم مرجعي              59846 non-null  int64  \n",
      " 1   المنطقة                59846 non-null  object \n",
      " 2   المدينة                59846 non-null  object \n",
      " 3   الحي                   59846 non-null  object \n",
      " 4   المخطط                 59846 non-null  object \n",
      " 5   رقم القطعة             59846 non-null  object \n",
      " 6   التاريخ                59846 non-null  object \n",
      " 7   تصنيف العقار           59846 non-null  object \n",
      " 8   نوع العقار             59846 non-null  object \n",
      " 9   عدد العقارات           59846 non-null  int64  \n",
      " 10  السعر بالريال السعودي  59846 non-null  int64  \n",
      " 11  المساحة                59846 non-null  float64\n",
      " 12  سعر المتر المربع       59846 non-null  float64\n",
      "dtypes: float64(2), int64(3), object(8)\n",
      "memory usage: 5.9+ MB\n"
     ]
    }
   ],
   "source": [
    "df1.info()"
   ]
  },
  {
   "cell_type": "code",
   "execution_count": 123,
   "id": "e77e72a0",
   "metadata": {},
   "outputs": [],
   "source": [
    "df1.drop('رقم القطعة', axis=1, inplace=True)"
   ]
  },
  {
   "cell_type": "code",
   "execution_count": 124,
   "id": "bdd64526",
   "metadata": {},
   "outputs": [
    {
     "name": "stdout",
     "output_type": "stream",
     "text": [
      "<class 'pandas.core.frame.DataFrame'>\n",
      "RangeIndex: 59846 entries, 0 to 59845\n",
      "Data columns (total 12 columns):\n",
      " #   Column                 Non-Null Count  Dtype  \n",
      "---  ------                 --------------  -----  \n",
      " 0   رقم مرجعي              59846 non-null  int64  \n",
      " 1   المنطقة                59846 non-null  object \n",
      " 2   المدينة                59846 non-null  object \n",
      " 3   الحي                   59846 non-null  object \n",
      " 4   المخطط                 59846 non-null  object \n",
      " 5   التاريخ                59846 non-null  object \n",
      " 6   تصنيف العقار           59846 non-null  object \n",
      " 7   نوع العقار             59846 non-null  object \n",
      " 8   عدد العقارات           59846 non-null  int64  \n",
      " 9   السعر بالريال السعودي  59846 non-null  int64  \n",
      " 10  المساحة                59846 non-null  float64\n",
      " 11  سعر المتر المربع       59846 non-null  float64\n",
      "dtypes: float64(2), int64(3), object(7)\n",
      "memory usage: 5.5+ MB\n"
     ]
    }
   ],
   "source": [
    "df1.info()"
   ]
  },
  {
   "cell_type": "markdown",
   "id": "94d968bf",
   "metadata": {},
   "source": [
    "**Renaming the Colmuns**"
   ]
  },
  {
   "cell_type": "code",
   "execution_count": 125,
   "id": "b717810d-3b1b-4514-8ec4-5fb9d8c37853",
   "metadata": {},
   "outputs": [],
   "source": [
    "df1.columns = df1.columns.str.strip()"
   ]
  },
  {
   "cell_type": "code",
   "execution_count": 126,
   "id": "c5d28640",
   "metadata": {},
   "outputs": [],
   "source": [
    "new_column_names = {\n",
    "    'المنطقة': 'area', \n",
    "    'المدينة': 'city',\n",
    "    'الحي': 'district',\n",
    "    'تصنيف العقار': 'property_classification',\n",
    "    'نوع العقار': 'property_type',\n",
    "    'عدد العقارات': 'number_of_properties',\n",
    "    'السعر بالريال السعودي': 'price',\n",
    "    'المساحة': 'space',\n",
    "    'سعر المتر المربع': 'Price_per_square_meter',\n",
    "    'رقم مرجعي': 'ref_num',\n",
    "    'المخطط': 'Mukatat',\n",
    "    'التاريخ': 'date' \n",
    "}"
   ]
  },
  {
   "cell_type": "code",
   "execution_count": 127,
   "id": "856bec98",
   "metadata": {},
   "outputs": [
    {
     "data": {
      "text/plain": [
       "Index(['ref_num', 'area', 'city', 'district', 'Mukatat', 'date',\n",
       "       'property_classification', 'property_type', 'number_of_properties',\n",
       "       'price', 'space', 'Price_per_square_meter'],\n",
       "      dtype='object')"
      ]
     },
     "execution_count": 127,
     "metadata": {},
     "output_type": "execute_result"
    }
   ],
   "source": [
    "df1 = df1.rename(columns=new_column_names)\n",
    "df1.columns\n"
   ]
  },
  {
   "cell_type": "markdown",
   "id": "0a27668b",
   "metadata": {},
   "source": [
    "**1.5 Uniqueness**\n",
    "\n",
    "Records Are Unique"
   ]
  },
  {
   "cell_type": "code",
   "execution_count": 128,
   "id": "8c4a93d7",
   "metadata": {},
   "outputs": [
    {
     "data": {
      "text/plain": [
       "np.int64(0)"
      ]
     },
     "execution_count": 128,
     "metadata": {},
     "output_type": "execute_result"
    }
   ],
   "source": [
    "df1.duplicated().sum()"
   ]
  },
  {
   "cell_type": "code",
   "execution_count": 129,
   "id": "cd0927c1",
   "metadata": {},
   "outputs": [
    {
     "data": {
      "text/html": [
       "<div>\n",
       "<style scoped>\n",
       "    .dataframe tbody tr th:only-of-type {\n",
       "        vertical-align: middle;\n",
       "    }\n",
       "\n",
       "    .dataframe tbody tr th {\n",
       "        vertical-align: top;\n",
       "    }\n",
       "\n",
       "    .dataframe thead th {\n",
       "        text-align: right;\n",
       "    }\n",
       "</style>\n",
       "<table border=\"1\" class=\"dataframe\">\n",
       "  <thead>\n",
       "    <tr style=\"text-align: right;\">\n",
       "      <th></th>\n",
       "      <th>ref_num</th>\n",
       "      <th>area</th>\n",
       "      <th>city</th>\n",
       "      <th>district</th>\n",
       "      <th>Mukatat</th>\n",
       "      <th>date</th>\n",
       "      <th>property_classification</th>\n",
       "      <th>property_type</th>\n",
       "      <th>number_of_properties</th>\n",
       "      <th>price</th>\n",
       "      <th>space</th>\n",
       "      <th>Price_per_square_meter</th>\n",
       "    </tr>\n",
       "  </thead>\n",
       "  <tbody>\n",
       "  </tbody>\n",
       "</table>\n",
       "</div>"
      ],
      "text/plain": [
       "Empty DataFrame\n",
       "Columns: [ref_num, area, city, district, Mukatat, date, property_classification, property_type, number_of_properties, price, space, Price_per_square_meter]\n",
       "Index: []"
      ]
     },
     "execution_count": 129,
     "metadata": {},
     "output_type": "execute_result"
    }
   ],
   "source": [
    "df1[df1.duplicated()]"
   ]
  },
  {
   "cell_type": "markdown",
   "id": "ce73ad2b",
   "metadata": {},
   "source": [
    "**1.6 Completeness**\n",
    "\n",
    "\n",
    "There is no critical data is missing"
   ]
  },
  {
   "cell_type": "code",
   "execution_count": 130,
   "id": "b4e6959c",
   "metadata": {},
   "outputs": [
    {
     "data": {
      "text/plain": [
       "ref_num                    0\n",
       "area                       0\n",
       "city                       0\n",
       "district                   0\n",
       "Mukatat                    0\n",
       "date                       0\n",
       "property_classification    0\n",
       "property_type              0\n",
       "number_of_properties       0\n",
       "price                      0\n",
       "space                      0\n",
       "Price_per_square_meter     0\n",
       "dtype: int64"
      ]
     },
     "execution_count": 130,
     "metadata": {},
     "output_type": "execute_result"
    }
   ],
   "source": [
    "df1.isna().sum()"
   ]
  },
  {
   "cell_type": "markdown",
   "id": "58351818",
   "metadata": {},
   "source": [
    "**1- Removing Any extra noise in columns**"
   ]
  },
  {
   "cell_type": "code",
   "execution_count": 131,
   "id": "576eeb71",
   "metadata": {},
   "outputs": [],
   "source": [
    "df1['district'] = df1['district'].str.replace(r'^حي/', '', regex=True)  # Remove \"حي/\"\n",
    "df1['Mukatat'] = df1['Mukatat'].str.replace(r'^مخطط/', '', regex=True)  # Remove \"مخطط/\"\n",
    "if 'piece_num' in df1.columns:\n",
    "    df1['piece_num'] = df1['piece_num'].str.strip().str.replace(r'^قطعة ', '', regex=True) # Remove \"قطعة/\""
   ]
  },
  {
   "cell_type": "code",
   "execution_count": 132,
   "id": "66e790a1",
   "metadata": {},
   "outputs": [
    {
     "data": {
      "text/plain": [
       "0                               الخالدية\n",
       "1         11 بالدخل المحدود غرب البجادية\n",
       "2    60حى اليرموك مخطط 1009 الجزء الثانى\n",
       "3             68 حى اليرموك مخطط 1009/ 2\n",
       "4                      827 حى هجرة الصاع\n",
       "Name: district, dtype: object"
      ]
     },
     "execution_count": 132,
     "metadata": {},
     "output_type": "execute_result"
    }
   ],
   "source": [
    "df1['district'].head()"
   ]
  },
  {
   "cell_type": "code",
   "execution_count": 133,
   "id": "3139e4c1",
   "metadata": {},
   "outputs": [
    {
     "data": {
      "text/plain": [
       "0     349\n",
       "1    أخرى\n",
       "2    أخرى\n",
       "3    أخرى\n",
       "4    أخرى\n",
       "Name: Mukatat, dtype: object"
      ]
     },
     "execution_count": 133,
     "metadata": {},
     "output_type": "execute_result"
    }
   ],
   "source": [
    "df1['Mukatat'].head()"
   ]
  },
  {
   "cell_type": "code",
   "execution_count": 134,
   "id": "22046e56",
   "metadata": {},
   "outputs": [],
   "source": [
    "df1['Mukatat'] = df1['Mukatat'].str.replace(r'\\s*/\\s*', '/', regex=True)"
   ]
  },
  {
   "cell_type": "markdown",
   "id": "e6a86885",
   "metadata": {},
   "source": [
    "**2- Changing the Districts that have lower than 10 rows to 'اخرى' to have better results & visualized data**"
   ]
  },
  {
   "cell_type": "code",
   "execution_count": 135,
   "id": "b394d6ce",
   "metadata": {},
   "outputs": [],
   "source": [
    "df1['district'] = df1['district'].apply(lambda x: x.strip() if isinstance(x, str) else x)\n",
    "district_stats = df1['district'].value_counts(ascending=False)\n",
    "district_stats_less_than_10 = district_stats[district_stats <= 10]\n",
    "df1['district'] = df1['district'].apply(lambda x: 'حي/أخرى' if x in district_stats_less_than_10 else x)"
   ]
  },
  {
   "cell_type": "code",
   "execution_count": 136,
   "id": "73483ffd",
   "metadata": {},
   "outputs": [
    {
     "data": {
      "text/plain": [
       "district\n",
       "3072/ ق             10\n",
       "ملحق النفل          10\n",
       "الامتداد الشمالى    10\n",
       "الأصفر              10\n",
       "الضبيعه             10\n",
       "                    ..\n",
       "ذبوب                 1\n",
       "المنهل               1\n",
       "الشويكه              1\n",
       "82/ 1                1\n",
       "43/ 2                1\n",
       "Name: count, Length: 3472, dtype: int64"
      ]
     },
     "execution_count": 136,
     "metadata": {},
     "output_type": "execute_result"
    }
   ],
   "source": [
    "district_stats_less_than_10"
   ]
  },
  {
   "cell_type": "code",
   "execution_count": 137,
   "id": "d9d4cb8a",
   "metadata": {},
   "outputs": [
    {
     "name": "stdout",
     "output_type": "stream",
     "text": [
      "<class 'pandas.core.frame.DataFrame'>\n",
      "RangeIndex: 59846 entries, 0 to 59845\n",
      "Data columns (total 12 columns):\n",
      " #   Column                   Non-Null Count  Dtype  \n",
      "---  ------                   --------------  -----  \n",
      " 0   ref_num                  59846 non-null  int64  \n",
      " 1   area                     59846 non-null  object \n",
      " 2   city                     59846 non-null  object \n",
      " 3   district                 59846 non-null  object \n",
      " 4   Mukatat                  59846 non-null  object \n",
      " 5   date                     59846 non-null  object \n",
      " 6   property_classification  59846 non-null  object \n",
      " 7   property_type            59846 non-null  object \n",
      " 8   number_of_properties     59846 non-null  int64  \n",
      " 9   price                    59846 non-null  int64  \n",
      " 10  space                    59846 non-null  float64\n",
      " 11  Price_per_square_meter   59846 non-null  float64\n",
      "dtypes: float64(2), int64(3), object(7)\n",
      "memory usage: 5.5+ MB\n"
     ]
    }
   ],
   "source": [
    "df1.info()"
   ]
  },
  {
   "cell_type": "markdown",
   "id": "d790be7c",
   "metadata": {},
   "source": [
    "**3- Deleting number_of_properties > 1 Because the price range would be different and it would be outlier** \n"
   ]
  },
  {
   "cell_type": "code",
   "execution_count": 138,
   "id": "0093c953",
   "metadata": {},
   "outputs": [
    {
     "name": "stdout",
     "output_type": "stream",
     "text": [
      "<class 'pandas.core.frame.DataFrame'>\n",
      "Index: 59203 entries, 0 to 59845\n",
      "Data columns (total 12 columns):\n",
      " #   Column                   Non-Null Count  Dtype  \n",
      "---  ------                   --------------  -----  \n",
      " 0   ref_num                  59203 non-null  int64  \n",
      " 1   area                     59203 non-null  object \n",
      " 2   city                     59203 non-null  object \n",
      " 3   district                 59203 non-null  object \n",
      " 4   Mukatat                  59203 non-null  object \n",
      " 5   date                     59203 non-null  object \n",
      " 6   property_classification  59203 non-null  object \n",
      " 7   property_type            59203 non-null  object \n",
      " 8   number_of_properties     59203 non-null  int64  \n",
      " 9   price                    59203 non-null  int64  \n",
      " 10  space                    59203 non-null  float64\n",
      " 11  Price_per_square_meter   59203 non-null  float64\n",
      "dtypes: float64(2), int64(3), object(7)\n",
      "memory usage: 5.9+ MB\n"
     ]
    }
   ],
   "source": [
    "df1 = df1[df1['number_of_properties'] <= 1]\n",
    "df1.info()"
   ]
  },
  {
   "cell_type": "markdown",
   "id": "290413fa",
   "metadata": {},
   "source": [
    "**4- Removing the areas are not in central,eastern,west**"
   ]
  },
  {
   "cell_type": "code",
   "execution_count": 139,
   "id": "fba188fd",
   "metadata": {},
   "outputs": [
    {
     "name": "stdout",
     "output_type": "stream",
     "text": [
      "<class 'pandas.core.frame.DataFrame'>\n",
      "Index: 41831 entries, 0 to 59748\n",
      "Data columns (total 12 columns):\n",
      " #   Column                   Non-Null Count  Dtype  \n",
      "---  ------                   --------------  -----  \n",
      " 0   ref_num                  41831 non-null  int64  \n",
      " 1   area                     41831 non-null  object \n",
      " 2   city                     41831 non-null  object \n",
      " 3   district                 41831 non-null  object \n",
      " 4   Mukatat                  41831 non-null  object \n",
      " 5   date                     41831 non-null  object \n",
      " 6   property_classification  41831 non-null  object \n",
      " 7   property_type            41831 non-null  object \n",
      " 8   number_of_properties     41831 non-null  int64  \n",
      " 9   price                    41831 non-null  int64  \n",
      " 10  space                    41831 non-null  float64\n",
      " 11  Price_per_square_meter   41831 non-null  float64\n",
      "dtypes: float64(2), int64(3), object(7)\n",
      "memory usage: 4.1+ MB\n"
     ]
    }
   ],
   "source": [
    "areas_to_keep = ['منطقة الرياض', 'منطقة مكة المكرمة', 'المنطقة الشرقية']\n",
    "\n",
    "df1 = df1[df1['area'].isin(areas_to_keep)]\n",
    "\n",
    "df1.info()"
   ]
  },
  {
   "cell_type": "markdown",
   "id": "95a6280a",
   "metadata": {},
   "source": [
    "**1.7 Accuracy Check**\n"
   ]
  },
  {
   "cell_type": "markdown",
   "id": "834b7567",
   "metadata": {},
   "source": [
    "**1. Validating the appropriateness of data types for the dataset.**"
   ]
  },
  {
   "cell_type": "code",
   "execution_count": 140,
   "id": "5d377cbe",
   "metadata": {},
   "outputs": [
    {
     "name": "stdout",
     "output_type": "stream",
     "text": [
      "<class 'pandas.core.frame.DataFrame'>\n",
      "Index: 41831 entries, 0 to 59748\n",
      "Data columns (total 12 columns):\n",
      " #   Column                   Non-Null Count  Dtype  \n",
      "---  ------                   --------------  -----  \n",
      " 0   ref_num                  41831 non-null  int64  \n",
      " 1   area                     41831 non-null  object \n",
      " 2   city                     41831 non-null  object \n",
      " 3   district                 41831 non-null  object \n",
      " 4   Mukatat                  41831 non-null  object \n",
      " 5   date                     41831 non-null  object \n",
      " 6   property_classification  41831 non-null  object \n",
      " 7   property_type            41831 non-null  object \n",
      " 8   number_of_properties     41831 non-null  int64  \n",
      " 9   price                    41831 non-null  int64  \n",
      " 10  space                    41831 non-null  float64\n",
      " 11  Price_per_square_meter   41831 non-null  float64\n",
      "dtypes: float64(2), int64(3), object(7)\n",
      "memory usage: 4.1+ MB\n"
     ]
    }
   ],
   "source": [
    "df1.info()"
   ]
  },
  {
   "cell_type": "code",
   "execution_count": 141,
   "id": "77e64e82",
   "metadata": {},
   "outputs": [
    {
     "data": {
      "text/html": [
       "<div>\n",
       "<style scoped>\n",
       "    .dataframe tbody tr th:only-of-type {\n",
       "        vertical-align: middle;\n",
       "    }\n",
       "\n",
       "    .dataframe tbody tr th {\n",
       "        vertical-align: top;\n",
       "    }\n",
       "\n",
       "    .dataframe thead th {\n",
       "        text-align: right;\n",
       "    }\n",
       "</style>\n",
       "<table border=\"1\" class=\"dataframe\">\n",
       "  <thead>\n",
       "    <tr style=\"text-align: right;\">\n",
       "      <th></th>\n",
       "      <th>ref_num</th>\n",
       "      <th>area</th>\n",
       "      <th>city</th>\n",
       "      <th>district</th>\n",
       "      <th>Mukatat</th>\n",
       "      <th>date</th>\n",
       "      <th>property_classification</th>\n",
       "      <th>property_type</th>\n",
       "      <th>number_of_properties</th>\n",
       "      <th>price</th>\n",
       "      <th>space</th>\n",
       "      <th>Price_per_square_meter</th>\n",
       "    </tr>\n",
       "  </thead>\n",
       "  <tbody>\n",
       "    <tr>\n",
       "      <th>20289</th>\n",
       "      <td>16238294</td>\n",
       "      <td>منطقة الرياض</td>\n",
       "      <td>الرياض</td>\n",
       "      <td>الرابية</td>\n",
       "      <td>3095</td>\n",
       "      <td>2/23/2022</td>\n",
       "      <td>سكني</td>\n",
       "      <td>قطعة أرض</td>\n",
       "      <td>1</td>\n",
       "      <td>300000</td>\n",
       "      <td>450.0</td>\n",
       "      <td>666.6666</td>\n",
       "    </tr>\n",
       "    <tr>\n",
       "      <th>52992</th>\n",
       "      <td>16643122</td>\n",
       "      <td>المنطقة الشرقية</td>\n",
       "      <td>الدمام</td>\n",
       "      <td>السيف</td>\n",
       "      <td>ش د 1450</td>\n",
       "      <td>4/4/2022</td>\n",
       "      <td>سكني</td>\n",
       "      <td>قطعة أرض</td>\n",
       "      <td>1</td>\n",
       "      <td>1117500</td>\n",
       "      <td>750.0</td>\n",
       "      <td>1490.0000</td>\n",
       "    </tr>\n",
       "    <tr>\n",
       "      <th>3319</th>\n",
       "      <td>16096381</td>\n",
       "      <td>المنطقة الشرقية</td>\n",
       "      <td>الخفجي</td>\n",
       "      <td>النهضه</td>\n",
       "      <td>8/40</td>\n",
       "      <td>2/3/2022</td>\n",
       "      <td>سكني</td>\n",
       "      <td>قطعة أرض</td>\n",
       "      <td>1</td>\n",
       "      <td>100000</td>\n",
       "      <td>460.0</td>\n",
       "      <td>217.3913</td>\n",
       "    </tr>\n",
       "    <tr>\n",
       "      <th>49145</th>\n",
       "      <td>16610404</td>\n",
       "      <td>منطقة الرياض</td>\n",
       "      <td>الرياض</td>\n",
       "      <td>الجنادرية</td>\n",
       "      <td>3084</td>\n",
       "      <td>3/30/2022</td>\n",
       "      <td>سكني</td>\n",
       "      <td>قطعة أرض</td>\n",
       "      <td>1</td>\n",
       "      <td>1085000</td>\n",
       "      <td>510.0</td>\n",
       "      <td>2127.4509</td>\n",
       "    </tr>\n",
       "    <tr>\n",
       "      <th>22868</th>\n",
       "      <td>16280801</td>\n",
       "      <td>منطقة الرياض</td>\n",
       "      <td>الرياض</td>\n",
       "      <td>شرق الرياض</td>\n",
       "      <td>3217</td>\n",
       "      <td>2/26/2022</td>\n",
       "      <td>سكني</td>\n",
       "      <td>قطعة أرض</td>\n",
       "      <td>1</td>\n",
       "      <td>515000</td>\n",
       "      <td>936.0</td>\n",
       "      <td>550.2136</td>\n",
       "    </tr>\n",
       "  </tbody>\n",
       "</table>\n",
       "</div>"
      ],
      "text/plain": [
       "        ref_num             area    city    district   Mukatat       date  \\\n",
       "20289  16238294     منطقة الرياض  الرياض     الرابية      3095  2/23/2022   \n",
       "52992  16643122  المنطقة الشرقية  الدمام       السيف  ش د 1450   4/4/2022   \n",
       "3319   16096381  المنطقة الشرقية  الخفجي      النهضه      8/40   2/3/2022   \n",
       "49145  16610404     منطقة الرياض  الرياض   الجنادرية      3084  3/30/2022   \n",
       "22868  16280801     منطقة الرياض  الرياض  شرق الرياض      3217  2/26/2022   \n",
       "\n",
       "      property_classification property_type  number_of_properties    price  \\\n",
       "20289                    سكني      قطعة أرض                     1   300000   \n",
       "52992                    سكني      قطعة أرض                     1  1117500   \n",
       "3319                     سكني      قطعة أرض                     1   100000   \n",
       "49145                    سكني      قطعة أرض                     1  1085000   \n",
       "22868                    سكني      قطعة أرض                     1   515000   \n",
       "\n",
       "       space  Price_per_square_meter  \n",
       "20289  450.0                666.6666  \n",
       "52992  750.0               1490.0000  \n",
       "3319   460.0                217.3913  \n",
       "49145  510.0               2127.4509  \n",
       "22868  936.0                550.2136  "
      ]
     },
     "execution_count": 141,
     "metadata": {},
     "output_type": "execute_result"
    }
   ],
   "source": [
    "df1.sample(5)"
   ]
  },
  {
   "cell_type": "markdown",
   "id": "5cc5894e",
   "metadata": {},
   "source": [
    "**2. Identifying outliers  using established validation  rule**"
   ]
  },
  {
   "cell_type": "code",
   "execution_count": 142,
   "id": "0f70aa53",
   "metadata": {},
   "outputs": [],
   "source": [
    "def remove_outliers(df, column_name):\n",
    "    mean = df[column_name].mean()\n",
    "    std_dev = df[column_name].std()\n",
    "    return df[(df[column_name] > (mean - 2 * std_dev)) & (df[column_name] < (mean + 2 * std_dev))]"
   ]
  },
  {
   "cell_type": "code",
   "execution_count": 143,
   "id": "58aab52b",
   "metadata": {},
   "outputs": [],
   "source": [
    "df1 = remove_outliers(df1, 'Price_per_square_meter')\n",
    "df1 = remove_outliers(df1, 'price')\n",
    "df1 = remove_outliers(df1, 'space')"
   ]
  },
  {
   "cell_type": "code",
   "execution_count": 144,
   "id": "4cf43c16",
   "metadata": {},
   "outputs": [
    {
     "data": {
      "text/html": [
       "<div>\n",
       "<style scoped>\n",
       "    .dataframe tbody tr th:only-of-type {\n",
       "        vertical-align: middle;\n",
       "    }\n",
       "\n",
       "    .dataframe tbody tr th {\n",
       "        vertical-align: top;\n",
       "    }\n",
       "\n",
       "    .dataframe thead th {\n",
       "        text-align: right;\n",
       "    }\n",
       "</style>\n",
       "<table border=\"1\" class=\"dataframe\">\n",
       "  <thead>\n",
       "    <tr style=\"text-align: right;\">\n",
       "      <th></th>\n",
       "      <th>ref_num</th>\n",
       "      <th>area</th>\n",
       "      <th>city</th>\n",
       "      <th>district</th>\n",
       "      <th>Mukatat</th>\n",
       "      <th>date</th>\n",
       "      <th>property_classification</th>\n",
       "      <th>property_type</th>\n",
       "      <th>number_of_properties</th>\n",
       "      <th>price</th>\n",
       "      <th>space</th>\n",
       "      <th>Price_per_square_meter</th>\n",
       "    </tr>\n",
       "  </thead>\n",
       "  <tbody>\n",
       "    <tr>\n",
       "      <th>4687</th>\n",
       "      <td>16110200</td>\n",
       "      <td>منطقة مكة المكرمة</td>\n",
       "      <td>مكة المكرمة</td>\n",
       "      <td>حي/أخرى</td>\n",
       "      <td>أخرى</td>\n",
       "      <td>2/6/2022</td>\n",
       "      <td>زراعي</td>\n",
       "      <td>أرض زراعية</td>\n",
       "      <td>1</td>\n",
       "      <td>10000</td>\n",
       "      <td>73950.86</td>\n",
       "      <td>0.1352</td>\n",
       "    </tr>\n",
       "    <tr>\n",
       "      <th>53159</th>\n",
       "      <td>16653827</td>\n",
       "      <td>منطقة الرياض</td>\n",
       "      <td>الافلاج</td>\n",
       "      <td>أخرى</td>\n",
       "      <td>أخرى</td>\n",
       "      <td>4/5/2022</td>\n",
       "      <td>سكني</td>\n",
       "      <td>أرض زراعية</td>\n",
       "      <td>1</td>\n",
       "      <td>10000</td>\n",
       "      <td>69948.00</td>\n",
       "      <td>0.1429</td>\n",
       "    </tr>\n",
       "    <tr>\n",
       "      <th>4642</th>\n",
       "      <td>16110149</td>\n",
       "      <td>منطقة مكة المكرمة</td>\n",
       "      <td>مكة المكرمة</td>\n",
       "      <td>حي/أخرى</td>\n",
       "      <td>أخرى</td>\n",
       "      <td>2/6/2022</td>\n",
       "      <td>زراعي</td>\n",
       "      <td>قطعة أرض</td>\n",
       "      <td>1</td>\n",
       "      <td>10000</td>\n",
       "      <td>62464.65</td>\n",
       "      <td>0.1600</td>\n",
       "    </tr>\n",
       "    <tr>\n",
       "      <th>18525</th>\n",
       "      <td>16048931</td>\n",
       "      <td>منطقة الرياض</td>\n",
       "      <td>الخرج</td>\n",
       "      <td>أخرى</td>\n",
       "      <td>أخرى</td>\n",
       "      <td>2/21/2022</td>\n",
       "      <td>زراعي</td>\n",
       "      <td>أرض زراعية</td>\n",
       "      <td>1</td>\n",
       "      <td>10000</td>\n",
       "      <td>62000.00</td>\n",
       "      <td>0.1612</td>\n",
       "    </tr>\n",
       "    <tr>\n",
       "      <th>53160</th>\n",
       "      <td>16613315</td>\n",
       "      <td>منطقة الرياض</td>\n",
       "      <td>الافلاج</td>\n",
       "      <td>أخرى</td>\n",
       "      <td>أخرى</td>\n",
       "      <td>4/5/2022</td>\n",
       "      <td>زراعي</td>\n",
       "      <td>أرض زراعية</td>\n",
       "      <td>1</td>\n",
       "      <td>10000</td>\n",
       "      <td>60900.00</td>\n",
       "      <td>0.1642</td>\n",
       "    </tr>\n",
       "    <tr>\n",
       "      <th>52264</th>\n",
       "      <td>16630326</td>\n",
       "      <td>المنطقة الشرقية</td>\n",
       "      <td>قرية العليا</td>\n",
       "      <td>بدون</td>\n",
       "      <td>أخرى</td>\n",
       "      <td>4/3/2022</td>\n",
       "      <td>سكني</td>\n",
       "      <td>قطعة أرض</td>\n",
       "      <td>1</td>\n",
       "      <td>20000</td>\n",
       "      <td>119416.00</td>\n",
       "      <td>0.1674</td>\n",
       "    </tr>\n",
       "    <tr>\n",
       "      <th>41298</th>\n",
       "      <td>16452140</td>\n",
       "      <td>المنطقة الشرقية</td>\n",
       "      <td>قرية العليا</td>\n",
       "      <td>بدون</td>\n",
       "      <td>أخرى</td>\n",
       "      <td>3/20/2022</td>\n",
       "      <td>سكني</td>\n",
       "      <td>قطعة أرض</td>\n",
       "      <td>1</td>\n",
       "      <td>20000</td>\n",
       "      <td>119416.00</td>\n",
       "      <td>0.1674</td>\n",
       "    </tr>\n",
       "    <tr>\n",
       "      <th>52266</th>\n",
       "      <td>16630250</td>\n",
       "      <td>المنطقة الشرقية</td>\n",
       "      <td>قرية العليا</td>\n",
       "      <td>بدون</td>\n",
       "      <td>أخرى</td>\n",
       "      <td>4/3/2022</td>\n",
       "      <td>زراعي</td>\n",
       "      <td>أرض زراعية</td>\n",
       "      <td>1</td>\n",
       "      <td>20000</td>\n",
       "      <td>110175.00</td>\n",
       "      <td>0.1815</td>\n",
       "    </tr>\n",
       "    <tr>\n",
       "      <th>48410</th>\n",
       "      <td>16589355</td>\n",
       "      <td>منطقة الرياض</td>\n",
       "      <td>شقراء</td>\n",
       "      <td>حي/أخرى</td>\n",
       "      <td>أخرى</td>\n",
       "      <td>3/29/2022</td>\n",
       "      <td>زراعي</td>\n",
       "      <td>أرض زراعية</td>\n",
       "      <td>1</td>\n",
       "      <td>10000</td>\n",
       "      <td>53200.00</td>\n",
       "      <td>0.1879</td>\n",
       "    </tr>\n",
       "    <tr>\n",
       "      <th>38558</th>\n",
       "      <td>16415936</td>\n",
       "      <td>منطقة الرياض</td>\n",
       "      <td>حوطة بني تميم</td>\n",
       "      <td>حي/أخرى</td>\n",
       "      <td>أخرى</td>\n",
       "      <td>3/16/2022</td>\n",
       "      <td>زراعي</td>\n",
       "      <td>قطعة أرض</td>\n",
       "      <td>1</td>\n",
       "      <td>10000</td>\n",
       "      <td>52700.00</td>\n",
       "      <td>0.1897</td>\n",
       "    </tr>\n",
       "  </tbody>\n",
       "</table>\n",
       "</div>"
      ],
      "text/plain": [
       "        ref_num               area           city district Mukatat       date  \\\n",
       "4687   16110200  منطقة مكة المكرمة    مكة المكرمة  حي/أخرى    أخرى   2/6/2022   \n",
       "53159  16653827       منطقة الرياض        الافلاج     أخرى    أخرى   4/5/2022   \n",
       "4642   16110149  منطقة مكة المكرمة    مكة المكرمة  حي/أخرى    أخرى   2/6/2022   \n",
       "18525  16048931       منطقة الرياض          الخرج     أخرى    أخرى  2/21/2022   \n",
       "53160  16613315       منطقة الرياض        الافلاج     أخرى    أخرى   4/5/2022   \n",
       "52264  16630326    المنطقة الشرقية    قرية العليا     بدون    أخرى   4/3/2022   \n",
       "41298  16452140    المنطقة الشرقية    قرية العليا     بدون    أخرى  3/20/2022   \n",
       "52266  16630250    المنطقة الشرقية    قرية العليا     بدون    أخرى   4/3/2022   \n",
       "48410  16589355       منطقة الرياض          شقراء  حي/أخرى    أخرى  3/29/2022   \n",
       "38558  16415936       منطقة الرياض  حوطة بني تميم  حي/أخرى    أخرى  3/16/2022   \n",
       "\n",
       "      property_classification property_type  number_of_properties  price  \\\n",
       "4687                    زراعي    أرض زراعية                     1  10000   \n",
       "53159                    سكني    أرض زراعية                     1  10000   \n",
       "4642                    زراعي      قطعة أرض                     1  10000   \n",
       "18525                   زراعي    أرض زراعية                     1  10000   \n",
       "53160                   زراعي    أرض زراعية                     1  10000   \n",
       "52264                    سكني      قطعة أرض                     1  20000   \n",
       "41298                    سكني      قطعة أرض                     1  20000   \n",
       "52266                   زراعي    أرض زراعية                     1  20000   \n",
       "48410                   زراعي    أرض زراعية                     1  10000   \n",
       "38558                   زراعي      قطعة أرض                     1  10000   \n",
       "\n",
       "           space  Price_per_square_meter  \n",
       "4687    73950.86                  0.1352  \n",
       "53159   69948.00                  0.1429  \n",
       "4642    62464.65                  0.1600  \n",
       "18525   62000.00                  0.1612  \n",
       "53160   60900.00                  0.1642  \n",
       "52264  119416.00                  0.1674  \n",
       "41298  119416.00                  0.1674  \n",
       "52266  110175.00                  0.1815  \n",
       "48410   53200.00                  0.1879  \n",
       "38558   52700.00                  0.1897  "
      ]
     },
     "execution_count": 144,
     "metadata": {},
     "output_type": "execute_result"
    }
   ],
   "source": [
    "df1.sort_values(by='Price_per_square_meter',ascending=True).head(10)"
   ]
  },
  {
   "cell_type": "code",
   "execution_count": 145,
   "id": "a6425187",
   "metadata": {},
   "outputs": [
    {
     "data": {
      "text/plain": [
       "district\n",
       "أخرى                        4111\n",
       "حي/أخرى                     3700\n",
       "الخير                       1439\n",
       "شرق الرياض                  1389\n",
       "نمار                        1277\n",
       "                            ... \n",
       "6 / 7 / 2/ 1423/ معدل/ س       1\n",
       "الشيحية                        1\n",
       "المطار                         1\n",
       "المباركية                      1\n",
       "الروضه                         1\n",
       "Name: count, Length: 460, dtype: int64"
      ]
     },
     "execution_count": 145,
     "metadata": {},
     "output_type": "execute_result"
    }
   ],
   "source": [
    "df1['district'].value_counts()"
   ]
  },
  {
   "cell_type": "code",
   "execution_count": 146,
   "id": "73a79503",
   "metadata": {},
   "outputs": [
    {
     "name": "stdout",
     "output_type": "stream",
     "text": [
      "<class 'pandas.core.frame.DataFrame'>\n",
      "Index: 40329 entries, 0 to 59748\n",
      "Data columns (total 12 columns):\n",
      " #   Column                   Non-Null Count  Dtype  \n",
      "---  ------                   --------------  -----  \n",
      " 0   ref_num                  40329 non-null  int64  \n",
      " 1   area                     40329 non-null  object \n",
      " 2   city                     40329 non-null  object \n",
      " 3   district                 40329 non-null  object \n",
      " 4   Mukatat                  40329 non-null  object \n",
      " 5   date                     40329 non-null  object \n",
      " 6   property_classification  40329 non-null  object \n",
      " 7   property_type            40329 non-null  object \n",
      " 8   number_of_properties     40329 non-null  int64  \n",
      " 9   price                    40329 non-null  int64  \n",
      " 10  space                    40329 non-null  float64\n",
      " 11  Price_per_square_meter   40329 non-null  float64\n",
      "dtypes: float64(2), int64(3), object(7)\n",
      "memory usage: 4.0+ MB\n"
     ]
    }
   ],
   "source": [
    "df1.info()"
   ]
  },
  {
   "cell_type": "code",
   "execution_count": 147,
   "id": "4a4af30d",
   "metadata": {},
   "outputs": [
    {
     "name": "stdout",
     "output_type": "stream",
     "text": [
      "\n",
      "Unique property types:\n",
      "['قطعة أرض' 'أرض زراعية' 'بيت' 'شقة' 'فيلا' 'مرفق' 'إستراحة' 'معرض/محل'\n",
      " 'مركز تجاري' 'عمارة']\n"
     ]
    }
   ],
   "source": [
    "print(\"\\nUnique property types:\")\n",
    "print(df1['property_type'].unique())"
   ]
  },
  {
   "cell_type": "code",
   "execution_count": 148,
   "id": "7b4ed646",
   "metadata": {},
   "outputs": [
    {
     "name": "stdout",
     "output_type": "stream",
     "text": [
      "\n",
      "District counts:\n",
      "district\n",
      "أخرى                        4111\n",
      "حي/أخرى                     3700\n",
      "الخير                       1439\n",
      "شرق الرياض                  1389\n",
      "نمار                        1277\n",
      "                            ... \n",
      "6 / 7 / 2/ 1423/ معدل/ س       1\n",
      "الشيحية                        1\n",
      "المطار                         1\n",
      "المباركية                      1\n",
      "الروضه                         1\n",
      "Name: count, Length: 460, dtype: int64\n"
     ]
    }
   ],
   "source": [
    "print(\"\\nDistrict counts:\")\n",
    "print(df1['district'].value_counts())"
   ]
  },
  {
   "cell_type": "code",
   "execution_count": 149,
   "id": "617f5d69",
   "metadata": {},
   "outputs": [
    {
     "name": "stdout",
     "output_type": "stream",
     "text": [
      "\n",
      "Area counts:\n",
      "area\n",
      "منطقة الرياض         20188\n",
      "منطقة مكة المكرمة    13102\n",
      "المنطقة الشرقية       7039\n",
      "Name: count, dtype: int64\n"
     ]
    }
   ],
   "source": [
    "print(\"\\nArea counts:\")\n",
    "print(df1['area'].value_counts())"
   ]
  },
  {
   "cell_type": "code",
   "execution_count": 150,
   "id": "f03359fe",
   "metadata": {},
   "outputs": [
    {
     "name": "stdout",
     "output_type": "stream",
     "text": [
      "\n",
      "City counts:\n",
      "city\n",
      "الرياض              12409\n",
      "جده                  7847\n",
      "مكة المكرمة          2813\n",
      "المزاحميه            1860\n",
      "الاحساء              1778\n",
      "الدمام               1584\n",
      "الطائف               1222\n",
      "شقراء                1158\n",
      "الخرج                1143\n",
      "حفر الباطن           1015\n",
      "الخبر                 920\n",
      "القطيف                555\n",
      "الدرعيه               489\n",
      "رابغ                  399\n",
      "الخفجي                362\n",
      "الدوادمي              350\n",
      "النعيريه              297\n",
      "مرات                  292\n",
      "الافلاج               287\n",
      "القنفذه               286\n",
      "حريملاء               282\n",
      "الزلفي                260\n",
      "رماح                  254\n",
      "ابقيق                 216\n",
      "ثادق                  215\n",
      "حوطة سدير             209\n",
      "ضرماء                 203\n",
      "حوطة بني تميم         196\n",
      "عفيف                  166\n",
      "الجبيل                161\n",
      "تربه                  154\n",
      "الغاط                 147\n",
      "رنيه                  129\n",
      "الدلم                 121\n",
      "الليث                  98\n",
      "الخرمه                 88\n",
      "العيون                 66\n",
      "وادي الدواسر           61\n",
      "السليل                 39\n",
      "قرية العليا            37\n",
      "حرض                    32\n",
      "البجاديه               24\n",
      "العرضيه الجنوبيه       22\n",
      "أضم                    16\n",
      "المويه                 16\n",
      "رأس تنوره              16\n",
      "الرين                  14\n",
      "ميسان                  12\n",
      "رفائع الجمش             9\n",
      "Name: count, dtype: int64\n"
     ]
    }
   ],
   "source": [
    "print(\"\\nCity counts:\")\n",
    "print(df1['city'].value_counts())"
   ]
  },
  {
   "cell_type": "code",
   "execution_count": 151,
   "id": "1b08174f",
   "metadata": {},
   "outputs": [],
   "source": [
    "df1.to_csv(\"Cleaneddata2022.csv\", index=False)\n"
   ]
  },
  {
   "cell_type": "code",
   "execution_count": null,
   "id": "dcd72551",
   "metadata": {},
   "outputs": [],
   "source": []
  }
 ],
 "metadata": {
  "kernelspec": {
   "display_name": "Python 3",
   "language": "python",
   "name": "python3"
  },
  "language_info": {
   "codemirror_mode": {
    "name": "ipython",
    "version": 3
   },
   "file_extension": ".py",
   "mimetype": "text/x-python",
   "name": "python",
   "nbconvert_exporter": "python",
   "pygments_lexer": "ipython3",
   "version": "3.12.4"
  }
 },
 "nbformat": 4,
 "nbformat_minor": 5
}
