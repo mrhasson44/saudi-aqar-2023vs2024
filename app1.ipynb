{
 "cells": [
  {
   "cell_type": "code",
   "execution_count": 1,
   "metadata": {},
   "outputs": [],
   "source": [
    "import pandas as pd\n",
    "import plotly.express as px\n",
    "import dash\n",
    "from dash import dcc, html\n",
    "from dash.dependencies import Input, Output"
   ]
  },
  {
   "cell_type": "code",
   "execution_count": 2,
   "metadata": {},
   "outputs": [],
   "source": [
    "# Load the data\n",
    "df_2022 = pd.read_csv('Cleaneddata2022.csv')\n",
    "df_2023 = pd.read_csv('Cleaneddata2023.csv')"
   ]
  },
  {
   "cell_type": "code",
   "execution_count": 3,
   "metadata": {},
   "outputs": [],
   "source": [
    "# Combine the datasets\n",
    "df = pd.concat([df_2022, df_2023], ignore_index=True)"
   ]
  },
  {
   "cell_type": "code",
   "execution_count": 4,
   "metadata": {},
   "outputs": [],
   "source": [
    "# Convert columns to appropriate types\n",
    "df['price'] = pd.to_numeric(df['price'], errors='coerce')\n",
    "df['space'] = pd.to_numeric(df['space'], errors='coerce')\n",
    "df['Price_per_square_meter'] = pd.to_numeric(df['Price_per_square_meter'], errors='coerce')"
   ]
  },
  {
   "cell_type": "code",
   "execution_count": 5,
   "metadata": {},
   "outputs": [],
   "source": [
    "# Clean the data\n",
    "df = df.dropna(subset=['Price_per_square_meter', 'space', 'city', 'area'])\n",
    "df = df[(df['Price_per_square_meter'] > 0) & (df['space'] > 0)]"
   ]
  },
  {
   "cell_type": "code",
   "execution_count": 6,
   "metadata": {},
   "outputs": [],
   "source": [
    "# Create the Dash app\n",
    "app = dash.Dash(__name__)"
   ]
  },
  {
   "cell_type": "code",
   "execution_count": 7,
   "metadata": {},
   "outputs": [],
   "source": [
    "# Define the layout\n",
    "app.layout = html.Div([\n",
    "    html.H1(\"Real Estate Market Analysis - Saudi Arabia\", style={'textAlign': 'center'}),\n",
    "    \n",
    "    html.Div([\n",
    "        html.Div([\n",
    "            html.Label(\"Filter by Area:\"),\n",
    "            dcc.Dropdown(\n",
    "                id='area-filter',\n",
    "                options=[{'label': area, 'value': area} for area in sorted(df['area'].unique())],\n",
    "                value=['Riyadh', 'Makkah', 'Eastern Province'],\n",
    "                multi=True\n",
    "            ),\n",
    "        ], style={'width': '30%', 'display': 'inline-block', 'padding': '10px'}),\n",
    "        \n",
    "        html.Div([\n",
    "            html.Label(\"Filter by City:\"),\n",
    "            dcc.Dropdown(\n",
    "                id='city-filter',\n",
    "                options=[{'label': city, 'value': city} for city in sorted(df['city'].unique())],\n",
    "                value=sorted(df['city'].unique()),\n",
    "                multi=True\n",
    "            ),\n",
    "        ], style={'width': '30%', 'display': 'inline-block', 'padding': '10px'}),\n",
    "        \n",
    "        html.Div([\n",
    "            html.Label(\"Filter by Property Type:\"),\n",
    "            dcc.Dropdown(\n",
    "                id='property-type-filter',\n",
    "                options=[{'label': pt, 'value': pt} for pt in sorted(df['property_type'].unique())],\n",
    "                value=sorted(df['property_type'].unique()),\n",
    "                multi=True\n",
    "            ),\n",
    "        ], style={'width': '30%', 'display': 'inline-block', 'padding': '10px'}),\n",
    "    ], style={'display': 'flex', 'justifyContent': 'space-between'}),\n",
    "    \n",
    "    # Insight 1: Graph (Average Price per Square Meter by City)\n",
    "    html.Div([\n",
    "        html.H2(\"Insight 1: Average Price per Square Meter by City\", style={'textAlign': 'center'}),\n",
    "        dcc.Graph(id='price-per-sqm-graph'),\n",
    "    ]),\n",
    "])\n",
    "\n",
    "# Define the callback for updating the graphs\n",
    "@app.callback(\n",
    "    Output('price-per-sqm-graph', 'figure'),\n",
    "    [Input('area-filter', 'value'),\n",
    "     Input('city-filter', 'value'),\n",
    "     Input('property-type-filter', 'value')]\n",
    ")\n",
    "def update_graphs(selected_areas, selected_cities, selected_property_types):\n",
    "    # Filter the data based on selections\n",
    "    filtered_df = df[\n",
    "        (df['area'].isin(selected_areas)) &\n",
    "        (df['city'].isin(selected_cities)) &\n",
    "        (df['property_type'].isin(selected_property_types))\n",
    "    ]\n",
    "    \n",
    "    # For insight 1: Average price per square meter by city\n",
    "    price_by_city = filtered_df.groupby('city')['Price_per_square_meter'].mean().reset_index()\n",
    "    price_by_city = price_by_city.sort_values('Price_per_square_meter', ascending=False)\n",
    "    \n",
    "    # Add area information to each city\n",
    "    city_area_map = df.drop_duplicates('city')[['city', 'area']].set_index('city').to_dict()['area']\n",
    "    price_by_city['area'] = price_by_city['city'].map(city_area_map)\n",
    "\n",
    "    # Create the figure for Insight 1\n",
    "    fig1 = px.bar(\n",
    "        price_by_city,\n",
    "        x='city',\n",
    "        y='Price_per_square_meter',\n",
    "        color='area',\n",
    "        title='Average Price per Square Meter by City',\n",
    "        labels={\n",
    "            'Price_per_square_meter': 'Average Price per Sq.m (SAR)', \n",
    "            'city': 'City',\n",
    "            'area': 'Area'\n",
    "        },\n",
    "        template='plotly_white'\n",
    "    )\n",
    "\n",
    "    # Enhance layout\n",
    "    fig1.update_layout(\n",
    "        xaxis={'categoryorder': 'total descending'},\n",
    "        yaxis_title_font=dict(size=14),\n",
    "        xaxis_title_font=dict(size=14),\n",
    "        legend_title_font=dict(size=12),\n",
    "        title_font=dict(size=16),\n",
    "    )\n",
    "\n",
    "    return fig1"
   ]
  },
  {
   "cell_type": "code",
   "execution_count": 9,
   "metadata": {},
   "outputs": [
    {
     "data": {
      "text/html": [
       "\n",
       "        <iframe\n",
       "            width=\"100%\"\n",
       "            height=\"650\"\n",
       "            src=\"http://127.0.0.1:8050/\"\n",
       "            frameborder=\"0\"\n",
       "            allowfullscreen\n",
       "            \n",
       "        ></iframe>\n",
       "        "
      ],
      "text/plain": [
       "<IPython.lib.display.IFrame at 0x1dc52081a60>"
      ]
     },
     "metadata": {},
     "output_type": "display_data"
    }
   ],
   "source": [
    "# Run the app\n",
    "if __name__ == '__main__':\n",
    "    app.run_server(debug=True)"
   ]
  }
 ],
 "metadata": {
  "kernelspec": {
   "display_name": "Python 3",
   "language": "python",
   "name": "python3"
  },
  "language_info": {
   "codemirror_mode": {
    "name": "ipython",
    "version": 3
   },
   "file_extension": ".py",
   "mimetype": "text/x-python",
   "name": "python",
   "nbconvert_exporter": "python",
   "pygments_lexer": "ipython3",
   "version": "3.12.9"
  }
 },
 "nbformat": 4,
 "nbformat_minor": 2
}
